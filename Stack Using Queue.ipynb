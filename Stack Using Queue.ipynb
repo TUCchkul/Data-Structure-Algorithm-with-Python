{
 "cells": [
  {
   "cell_type": "code",
   "execution_count": 4,
   "id": "cac0926d",
   "metadata": {},
   "outputs": [
    {
     "name": "stdout",
     "output_type": "stream",
     "text": [
      "5 4 3 2 1 \n",
      "5\n",
      "4\n",
      "3 2 1 \n"
     ]
    }
   ],
   "source": [
    "class Queue:\n",
    "    def __init__(self):\n",
    "        self.q=[]\n",
    "    def enque(self, data):\n",
    "        self.q.append(data)\n",
    "    def deque(self):\n",
    "        popEle=-1\n",
    "        if len(self.q)>0:\n",
    "            popEle=self.q.pop(0)\n",
    "        return popEle\n",
    "class Stack:\n",
    "    def __init__(self):\n",
    "        self.q1=Queue()\n",
    "        self.q2=Queue()\n",
    "    def push(self, data):\n",
    "        self.q2.enque(data)\n",
    "        while len(self.q1.q)>0:\n",
    "            alpha=self.q1.deque()\n",
    "            self.q2.enque(alpha)\n",
    "        self.q1,self.q2=self.q2,self.q1\n",
    "    \n",
    "    \n",
    "    def pop(self):\n",
    "        if len(self.q1.q)==0:\n",
    "            return None\n",
    "        else:\n",
    "            popNode=self.q1.deque()\n",
    "            return popNode\n",
    "    def print(self):\n",
    "        for i in self.q1.q:\n",
    "            print(i, end=\" \")\n",
    "        print()\n",
    "s=Stack()\n",
    "values=[1,2,3,4,5]\n",
    "for i in values:\n",
    "    s.push(i)\n",
    "s.print()\n",
    "print(s.pop())\n",
    "print(s.pop())\n",
    "s.print()\n",
    "    "
   ]
  },
  {
   "cell_type": "code",
   "execution_count": null,
   "id": "c4f78d41",
   "metadata": {},
   "outputs": [],
   "source": [
    "\n"
   ]
  },
  {
   "cell_type": "code",
   "execution_count": null,
   "id": "8c401a47",
   "metadata": {},
   "outputs": [],
   "source": []
  }
 ],
 "metadata": {
  "kernelspec": {
   "display_name": "Python 3 (ipykernel)",
   "language": "python",
   "name": "python3"
  },
  "language_info": {
   "codemirror_mode": {
    "name": "ipython",
    "version": 3
   },
   "file_extension": ".py",
   "mimetype": "text/x-python",
   "name": "python",
   "nbconvert_exporter": "python",
   "pygments_lexer": "ipython3",
   "version": "3.7.13"
  }
 },
 "nbformat": 4,
 "nbformat_minor": 5
}
