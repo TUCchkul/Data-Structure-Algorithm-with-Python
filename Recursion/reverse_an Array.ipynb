{
 "cells": [
  {
   "cell_type": "code",
   "execution_count": 3,
   "id": "ccae2dff",
   "metadata": {},
   "outputs": [
    {
     "name": "stdout",
     "output_type": "stream",
     "text": [
      "[5, 2, 1, 9, 8, 6, 4]\n"
     ]
    }
   ],
   "source": [
    "op_array=[]\n",
    "def reverseanArray(arr):\n",
    "    if len(arr)==1:\n",
    "        op_array.append(arr[0])\n",
    "        return\n",
    "    \n",
    "    reverseanArray(arr[1:])\n",
    "    op_array.append(arr[0])\n",
    "    \n",
    "in_array=[4,6,8,9,1,2,5]\n",
    "reverseanArray(in_array)\n",
    "print(op_array)"
   ]
  },
  {
   "cell_type": "code",
   "execution_count": 1,
   "id": "39c62812",
   "metadata": {},
   "outputs": [
    {
     "name": "stdout",
     "output_type": "stream",
     "text": [
      "[6, 8, 9, 1, 2, 5]\n"
     ]
    }
   ],
   "source": [
    "in_array=[4,6,8,9,1,2,5]\n",
    "print(in_array[1:])"
   ]
  },
  {
   "cell_type": "code",
   "execution_count": null,
   "id": "f900bd77",
   "metadata": {},
   "outputs": [],
   "source": []
  }
 ],
 "metadata": {
  "kernelspec": {
   "display_name": "Python 3 (ipykernel)",
   "language": "python",
   "name": "python3"
  },
  "language_info": {
   "codemirror_mode": {
    "name": "ipython",
    "version": 3
   },
   "file_extension": ".py",
   "mimetype": "text/x-python",
   "name": "python",
   "nbconvert_exporter": "python",
   "pygments_lexer": "ipython3",
   "version": "3.7.13"
  }
 },
 "nbformat": 4,
 "nbformat_minor": 5
}
