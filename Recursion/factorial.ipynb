{
 "cells": [
  {
   "cell_type": "code",
   "execution_count": null,
   "id": "b3d2ac70",
   "metadata": {},
   "outputs": [],
   "source": [
    "# Iterative way"
   ]
  },
  {
   "cell_type": "code",
   "execution_count": 3,
   "id": "726f1850",
   "metadata": {},
   "outputs": [],
   "source": [
    "def factorial(n):\n",
    "    f=1\n",
    "    for i in range(n,0,-1):\n",
    "        f=f*i\n",
    "    return f\n",
    "        "
   ]
  },
  {
   "cell_type": "code",
   "execution_count": 4,
   "id": "64ff5d92",
   "metadata": {},
   "outputs": [
    {
     "data": {
      "text/plain": [
       "120"
      ]
     },
     "execution_count": 4,
     "metadata": {},
     "output_type": "execute_result"
    }
   ],
   "source": [
    "factorial(5)"
   ]
  },
  {
   "cell_type": "code",
   "execution_count": null,
   "id": "f71ea64e",
   "metadata": {},
   "outputs": [],
   "source": [
    "# Recursive way\n"
   ]
  }
 ],
 "metadata": {
  "kernelspec": {
   "display_name": "Python 3 (ipykernel)",
   "language": "python",
   "name": "python3"
  },
  "language_info": {
   "codemirror_mode": {
    "name": "ipython",
    "version": 3
   },
   "file_extension": ".py",
   "mimetype": "text/x-python",
   "name": "python",
   "nbconvert_exporter": "python",
   "pygments_lexer": "ipython3",
   "version": "3.7.0"
  }
 },
 "nbformat": 4,
 "nbformat_minor": 5
}
