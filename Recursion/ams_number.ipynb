{
 "cells": [
  {
   "cell_type": "code",
   "execution_count": 11,
   "metadata": {},
   "outputs": [],
   "source": [
    "lenv=0\n",
    "def lengthOfNumber(num):\n",
    "    global lenv\n",
    "    if num<10:\n",
    "        lenv=lenv+1\n",
    "        return\n",
    "    \n",
    "    lenv=lenv+1\n",
    "    lengthOfNumber(num//10)"
   ]
  },
  {
   "cell_type": "code",
   "execution_count": 12,
   "metadata": {},
   "outputs": [],
   "source": [
    "arm=0\n",
    "def armstrongNumber_Checking(num, len):\n",
    "    global arm\n",
    "    if num<10:\n",
    "        arm=arm+(num%10)**len\n",
    "        return\n",
    "        \n",
    "    arm=arm+(num%10)**len\n",
    "    armstrongNumber_Checking(num//10,len)"
   ]
  },
  {
   "cell_type": "code",
   "execution_count": 13,
   "metadata": {},
   "outputs": [
    {
     "name": "stdout",
     "output_type": "stream",
     "text": [
      "3\n",
      "Armstrong Number\n"
     ]
    }
   ],
   "source": [
    "num=153\n",
    "lengthOfNumber(num)\n",
    "print(lenv)\n",
    "armstrongNumber_Checking(num,lenv)\n",
    "if arm==num:\n",
    "    print(\"Armstrong Number\")\n",
    "else:\n",
    "    print(\"Not an armstrong number\")\n"
   ]
  },
  {
   "cell_type": "markdown",
   "metadata": {},
   "source": [
    "## Palindrom Checking"
   ]
  },
  {
   "cell_type": "code",
   "execution_count": 18,
   "metadata": {},
   "outputs": [
    {
     "name": "stdout",
     "output_type": "stream",
     "text": [
      "321\n",
      "Number:123 is not palindrom\n"
     ]
    }
   ],
   "source": [
    "val=0\n",
    "def palindromchecking(num):\n",
    "    global val\n",
    "    if num<10:\n",
    "        val=val*10+num%10\n",
    "        return\n",
    "    \n",
    "    val=val*10+num%10\n",
    "    palindromchecking(num//10)\n",
    "num=123\n",
    "palindromchecking(num)\n",
    "print(val)\n",
    "if val==num:\n",
    "    print(f\"Number:{num} is palindrom\")\n",
    "else:\n",
    "    print(f\"Number:{num} is not palindrom\")"
   ]
  },
  {
   "cell_type": "markdown",
   "metadata": {},
   "source": [
    "# sorting an array using recursion"
   ]
  },
  {
   "cell_type": "code",
   "execution_count": null,
   "metadata": {},
   "outputs": [],
   "source": []
  }
 ],
 "metadata": {
  "kernelspec": {
   "display_name": "Python 3",
   "language": "python",
   "name": "python3"
  },
  "language_info": {
   "codemirror_mode": {
    "name": "ipython",
    "version": 3
   },
   "file_extension": ".py",
   "mimetype": "text/x-python",
   "name": "python",
   "nbconvert_exporter": "python",
   "pygments_lexer": "ipython3",
   "version": "3.8.5"
  }
 },
 "nbformat": 4,
 "nbformat_minor": 4
}
