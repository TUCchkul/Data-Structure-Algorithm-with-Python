{
 "cells": [
  {
   "cell_type": "code",
   "execution_count": 28,
   "metadata": {},
   "outputs": [],
   "source": [
    "lenV=0\n",
    "def lengthofNumber(num):\n",
    "    global lenV\n",
    "    if num <10:\n",
    "        lenV=lenV+1\n",
    "        return\n",
    "    \n",
    "    lenV =lenV+1\n",
    "    lengthofNumber(num//10)"
   ]
  },
  {
   "cell_type": "code",
   "execution_count": 29,
   "metadata": {},
   "outputs": [],
   "source": [
    "val=0\n",
    "def armstrongNumber(num, lenV):\n",
    "    global val\n",
    "    if num<10:\n",
    "        val=val+(num%10)**lenV\n",
    "        return\n",
    "    \n",
    "    val=val+(num%10)**lenV\n",
    "    armstrongNumber(num//10,lenV)"
   ]
  },
  {
   "cell_type": "code",
   "execution_count": 30,
   "metadata": {},
   "outputs": [
    {
     "name": "stdout",
     "output_type": "stream",
     "text": [
      "Armstrong Number\n"
     ]
    }
   ],
   "source": [
    "num=153\n",
    "lengthofNumber(num)\n",
    "armstrongNumber(num, lenV)\n",
    "if val==num:\n",
    "    print(\"Armstrong Number\")\n",
    "else:\n",
    "    print(\"Not a Armstrong Number\")"
   ]
  },
  {
   "cell_type": "code",
   "execution_count": 31,
   "metadata": {},
   "outputs": [
    {
     "data": {
      "text/plain": [
       "3"
      ]
     },
     "execution_count": 31,
     "metadata": {},
     "output_type": "execute_result"
    }
   ],
   "source": [
    "153%10"
   ]
  },
  {
   "cell_type": "code",
   "execution_count": 32,
   "metadata": {},
   "outputs": [
    {
     "data": {
      "text/plain": [
       "15"
      ]
     },
     "execution_count": 32,
     "metadata": {},
     "output_type": "execute_result"
    }
   ],
   "source": [
    "153//10"
   ]
  },
  {
   "cell_type": "code",
   "execution_count": null,
   "metadata": {},
   "outputs": [],
   "source": [
    "#lenV=0 \n",
    "#removingdef lengthofNumber(num):\n",
    " #   global lenV\n",
    " #   if num<10:\n",
    " #       lenv=lenV+1\n",
    " #       return\n",
    " #   lenV=lenV+1\n",
    "#    lengthofNumber(num//10)\n",
    "#val=0\n",
    "#def armstrong(num, len):\n",
    " #   global val\n",
    " #   if num<10:\n",
    "    #    val=val+ (num%10)**len   \n",
    "   #     return\n",
    "\n",
    "\n",
    "  #  val=val+(num%10)**len\n",
    "  #  armstrong(num//10, len)\n",
    "#num=153 \n",
    "#lengthofNumber(num)\n",
    "#print(lenV)\n",
    "#armstrong(num, lenV)\n",
    "##if val==num:\n",
    "#    print(\"Armstrong\")\n",
    "#else:\n",
    "#    print(\"Not an Armstrong\")"
   ]
  }
 ],
 "metadata": {
  "kernelspec": {
   "display_name": "Python 3",
   "language": "python",
   "name": "python3"
  },
  "language_info": {
   "codemirror_mode": {
    "name": "ipython",
    "version": 3
   },
   "file_extension": ".py",
   "mimetype": "text/x-python",
   "name": "python",
   "nbconvert_exporter": "python",
   "pygments_lexer": "ipython3",
   "version": "3.8.5"
  }
 },
 "nbformat": 4,
 "nbformat_minor": 4
}
