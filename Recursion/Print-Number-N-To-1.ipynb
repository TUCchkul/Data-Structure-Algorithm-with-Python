{
 "cells": [
  {
   "cell_type": "code",
   "execution_count": 1,
   "id": "dde3134d",
   "metadata": {},
   "outputs": [],
   "source": [
    "def printNumber_N_To_one(n):\n",
    "    if n==0:\n",
    "        return\n",
    "    print(n)\n",
    "    printNumber_N_To_one(n-1)"
   ]
  },
  {
   "cell_type": "code",
   "execution_count": 2,
   "id": "d2f24ba9",
   "metadata": {},
   "outputs": [
    {
     "name": "stdout",
     "output_type": "stream",
     "text": [
      "5\n",
      "4\n",
      "3\n",
      "2\n",
      "1\n"
     ]
    }
   ],
   "source": [
    "printNumber_N_To_one(5)"
   ]
  },
  {
   "cell_type": "code",
   "execution_count": null,
   "id": "238564ef",
   "metadata": {},
   "outputs": [],
   "source": []
  }
 ],
 "metadata": {
  "kernelspec": {
   "display_name": "Python 3 (ipykernel)",
   "language": "python",
   "name": "python3"
  },
  "language_info": {
   "codemirror_mode": {
    "name": "ipython",
    "version": 3
   },
   "file_extension": ".py",
   "mimetype": "text/x-python",
   "name": "python",
   "nbconvert_exporter": "python",
   "pygments_lexer": "ipython3",
   "version": "3.7.0"
  }
 },
 "nbformat": 4,
 "nbformat_minor": 5
}
