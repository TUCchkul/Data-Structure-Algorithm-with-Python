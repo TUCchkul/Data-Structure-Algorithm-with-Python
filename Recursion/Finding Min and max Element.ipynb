{
 "cells": [
  {
   "cell_type": "code",
   "execution_count": 3,
   "id": "3b3c0b8e",
   "metadata": {},
   "outputs": [
    {
     "name": "stdout",
     "output_type": "stream",
     "text": [
      "[5, 2, 1, 9, 8, 6, 4]\n"
     ]
    }
   ],
   "source": [
    "op_array=[]\n",
    "def reverseanArray(arr):\n",
    "    if len(arr)==1:\n",
    "        op_array.append(arr[0])\n",
    "        return\n",
    "    \n",
    "    reverseanArray(arr[1:])\n",
    "    op_array.append(arr[0])\n",
    "    \n",
    "in_array=[4,6,8,9,1,2,5]\n",
    "reverseanArray(in_array)\n",
    "print(op_array)"
   ]
  },
  {
   "cell_type": "code",
   "execution_count": 1,
   "id": "002a8582",
   "metadata": {},
   "outputs": [
    {
     "name": "stdout",
     "output_type": "stream",
     "text": [
      "[6, 8, 9, 1, 2, 5]\n"
     ]
    }
   ],
   "source": [
    "in_array=[4,6,8,9,1,2,5]\n",
    "print(in_array[1:])"
   ]
  },
  {
   "cell_type": "code",
   "execution_count": 5,
   "id": "4714bd0d",
   "metadata": {},
   "outputs": [
    {
     "name": "stdout",
     "output_type": "stream",
     "text": [
      "[5, 2, 1, 9, 8, 6, 4]\n"
     ]
    }
   ],
   "source": [
    "def reverseanArrainplace(arr):\n",
    "    if len(arr)==1:\n",
    "        return\n",
    "    alpha=arr.pop(0)\n",
    "    reverseanArrainplace(arr)\n",
    "    arr.append(alpha)\n",
    "in_array=[4,6,8,9,1,2,5]\n",
    "reverseanArrainplace(in_array)\n",
    "print(in_array)"
   ]
  },
  {
   "cell_type": "code",
   "execution_count": 8,
   "id": "4cce9ca7",
   "metadata": {},
   "outputs": [],
   "source": [
    "import sys\n",
    "def maxE(arr):\n",
    "    if len(arr)==0:\n",
    "        maxE=-1\n",
    "    else:\n",
    "        maxE=-sys.maxsize\n",
    "        for i in arr:\n",
    "            if i>maxE:\n",
    "                maxE=i\n",
    "        return maxE"
   ]
  },
  {
   "cell_type": "code",
   "execution_count": 9,
   "id": "13424b72",
   "metadata": {},
   "outputs": [
    {
     "data": {
      "text/plain": [
       "9"
      ]
     },
     "execution_count": 9,
     "metadata": {},
     "output_type": "execute_result"
    }
   ],
   "source": [
    "in_array=[4,6,8,9,1,2,5]\n",
    "maxE(in_array)\n"
   ]
  },
  {
   "cell_type": "code",
   "execution_count": 10,
   "id": "4c20acfb",
   "metadata": {},
   "outputs": [],
   "source": [
    "def MinElementinArray(arr):\n",
    "    if len(arr)==0:\n",
    "        minE=-1\n",
    "    else:\n",
    "        minE=sys.maxsize\n",
    "        for i in arr:\n",
    "            if i<minE:\n",
    "                minE=i\n",
    "        return minE"
   ]
  },
  {
   "cell_type": "code",
   "execution_count": 11,
   "id": "fc4f3abe",
   "metadata": {},
   "outputs": [
    {
     "data": {
      "text/plain": [
       "1"
      ]
     },
     "execution_count": 11,
     "metadata": {},
     "output_type": "execute_result"
    }
   ],
   "source": [
    "in_array=[4,6,8,9,1,2,5]\n",
    "MinElementinArray(in_array)\n"
   ]
  },
  {
   "cell_type": "code",
   "execution_count": null,
   "id": "a3d52ece",
   "metadata": {},
   "outputs": [],
   "source": []
  }
 ],
 "metadata": {
  "kernelspec": {
   "display_name": "Python 3 (ipykernel)",
   "language": "python",
   "name": "python3"
  },
  "language_info": {
   "codemirror_mode": {
    "name": "ipython",
    "version": 3
   },
   "file_extension": ".py",
   "mimetype": "text/x-python",
   "name": "python",
   "nbconvert_exporter": "python",
   "pygments_lexer": "ipython3",
   "version": "3.7.13"
  }
 },
 "nbformat": 4,
 "nbformat_minor": 5
}
