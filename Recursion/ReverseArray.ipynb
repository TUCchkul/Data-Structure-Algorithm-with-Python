{
 "cells": [
  {
   "cell_type": "code",
   "execution_count": 2,
   "id": "8a5ab635",
   "metadata": {},
   "outputs": [],
   "source": [
    "def reverseAnArray(in_array):\n",
    "    if(len(in_array)==1):\n",
    "        return\n",
    "    alpha=in_array.pop(0)\n",
    "    reverseAnArray(in_array)\n",
    "    in_array.append(alpha)"
   ]
  },
  {
   "cell_type": "code",
   "execution_count": 3,
   "id": "5c877e0e",
   "metadata": {},
   "outputs": [
    {
     "name": "stdout",
     "output_type": "stream",
     "text": [
      "[9, 8, 7, 6, 5, 4, 3, 2, 1]\n"
     ]
    }
   ],
   "source": [
    "in_array=[1,2,3,4,5,6,7,8,9]\n",
    "reverseAnArray(in_array)\n",
    "print(in_array)"
   ]
  },
  {
   "cell_type": "code",
   "execution_count": null,
   "id": "eb7815b5",
   "metadata": {},
   "outputs": [],
   "source": []
  }
 ],
 "metadata": {
  "kernelspec": {
   "display_name": "Python 3 (ipykernel)",
   "language": "python",
   "name": "python3"
  },
  "language_info": {
   "codemirror_mode": {
    "name": "ipython",
    "version": 3
   },
   "file_extension": ".py",
   "mimetype": "text/x-python",
   "name": "python",
   "nbconvert_exporter": "python",
   "pygments_lexer": "ipython3",
   "version": "3.7.0"
  }
 },
 "nbformat": 4,
 "nbformat_minor": 5
}
