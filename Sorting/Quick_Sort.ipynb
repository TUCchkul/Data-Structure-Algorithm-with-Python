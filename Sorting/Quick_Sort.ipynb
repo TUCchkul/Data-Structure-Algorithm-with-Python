{
 "cells": [
  {
   "cell_type": "code",
   "execution_count": null,
   "metadata": {},
   "outputs": [],
   "source": [
    "def partition(arr, low, high):\n",
    "    i=low-1\n",
    "    pivot=arr[high]\n",
    "    for j in range(low, high):\n",
    "        if arr[j]<pivot:\n",
    "            i+=1\n",
    "            arr[j],arr[i]=arr[i], arr[j]\n",
    "    arr[i+1],arr[high]=arr[high]\n",
    "def quickSort(arr, low, high):\n",
    "    if low<high:\n",
    "        pivotPos=partition(arr, low, high)\n",
    "        quickSort(arr, low, pivotPos-1)\n",
    "        quickSort(arr, pivotPos+1, high)\n",
    "arr=[2,5,1,4,3]\n",
    "quickSort(arr, 0, len(arr)-1)"
   ]
  }
 ],
 "metadata": {
  "kernelspec": {
   "display_name": "Python 3",
   "language": "python",
   "name": "python3"
  },
  "language_info": {
   "codemirror_mode": {
    "name": "ipython",
    "version": 3
   },
   "file_extension": ".py",
   "mimetype": "text/x-python",
   "name": "python",
   "nbconvert_exporter": "python",
   "pygments_lexer": "ipython3",
   "version": "3.8.5"
  }
 },
 "nbformat": 4,
 "nbformat_minor": 4
}
