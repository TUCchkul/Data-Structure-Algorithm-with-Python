{
 "cells": [
  {
   "cell_type": "code",
   "execution_count": 8,
   "id": "abe219a5",
   "metadata": {},
   "outputs": [
    {
     "name": "stdout",
     "output_type": "stream",
     "text": [
      "[5, 4, 3, 2, 1]\n",
      "\n",
      "[4, 5, 3, 2, 1]\n",
      "\n",
      "[4, 3, 5, 2, 1]\n",
      "[3, 4, 5, 2, 1]\n",
      "\n",
      "[3, 4, 2, 5, 1]\n",
      "[3, 2, 4, 5, 1]\n",
      "[2, 3, 4, 5, 1]\n",
      "\n",
      "[2, 3, 4, 1, 5]\n",
      "[2, 3, 1, 4, 5]\n",
      "[2, 1, 3, 4, 5]\n",
      "[1, 2, 3, 4, 5]\n",
      "\n"
     ]
    }
   ],
   "source": [
    "def insertion_Sort(arr):\n",
    "    for i in range(len(arr)):\n",
    "        j=i-1\n",
    "        while j>=0 and arr[j]>arr[j+1]:\n",
    "            arr[j],arr[j+1]=arr[j+1],arr[j]\n",
    "            j-=1\n",
    "            print(arr)\n",
    "        print()\n",
    "            \n",
    "arr=[5,4,3,2,1]\n",
    "print(arr)\n",
    "insertion_Sort(arr)\n",
    "#print(arr)"
   ]
  },
  {
   "cell_type": "code",
   "execution_count": null,
   "id": "b63d71fc",
   "metadata": {},
   "outputs": [],
   "source": []
  }
 ],
 "metadata": {
  "kernelspec": {
   "display_name": "Python 3 (ipykernel)",
   "language": "python",
   "name": "python3"
  },
  "language_info": {
   "codemirror_mode": {
    "name": "ipython",
    "version": 3
   },
   "file_extension": ".py",
   "mimetype": "text/x-python",
   "name": "python",
   "nbconvert_exporter": "python",
   "pygments_lexer": "ipython3",
   "version": "3.7.13"
  }
 },
 "nbformat": 4,
 "nbformat_minor": 5
}
