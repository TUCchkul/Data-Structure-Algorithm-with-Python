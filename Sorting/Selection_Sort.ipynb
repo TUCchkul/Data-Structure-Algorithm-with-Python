{
 "cells": [
  {
   "cell_type": "code",
   "execution_count": null,
   "id": "d35819bb",
   "metadata": {},
   "outputs": [],
   "source": [
    "def selection_Sort(arr):\n",
    "    for i in range(len(arr)):\n",
    "        fixed=i\n",
    "        for j in range(i+1,len(arr)):\n",
    "            \n",
    "arr=[5,4,3,2,1]\n",
    "selection_Sort(arr)\n",
    "print(arr)"
   ]
  }
 ],
 "metadata": {
  "kernelspec": {
   "display_name": "Python 3 (ipykernel)",
   "language": "python",
   "name": "python3"
  },
  "language_info": {
   "codemirror_mode": {
    "name": "ipython",
    "version": 3
   },
   "file_extension": ".py",
   "mimetype": "text/x-python",
   "name": "python",
   "nbconvert_exporter": "python",
   "pygments_lexer": "ipython3",
   "version": "3.7.13"
  }
 },
 "nbformat": 4,
 "nbformat_minor": 5
}
