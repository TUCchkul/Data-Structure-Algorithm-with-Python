{
 "cells": [
  {
   "cell_type": "code",
   "execution_count": 1,
   "id": "2fc4ce4c",
   "metadata": {},
   "outputs": [
    {
     "name": "stdout",
     "output_type": "stream",
     "text": [
      "[1, 2, 3, 4, 5]\n"
     ]
    }
   ],
   "source": [
    "def selection_Sort(arr):\n",
    "    for i in range(len(arr)):\n",
    "        fixed=i\n",
    "        for j in range(i+1,len(arr)):\n",
    "            if arr[fixed]>arr[j]:\n",
    "                arr[fixed],arr[j]=arr[j], arr[fixed]\n",
    "arr=[5,4,3,2,1]\n",
    "selection_Sort(arr)\n",
    "print(arr)"
   ]
  },
  {
   "cell_type": "code",
   "execution_count": null,
   "id": "52bb1b40",
   "metadata": {},
   "outputs": [],
   "source": []
  }
 ],
 "metadata": {
  "kernelspec": {
   "display_name": "Python 3 (ipykernel)",
   "language": "python",
   "name": "python3"
  },
  "language_info": {
   "codemirror_mode": {
    "name": "ipython",
    "version": 3
   },
   "file_extension": ".py",
   "mimetype": "text/x-python",
   "name": "python",
   "nbconvert_exporter": "python",
   "pygments_lexer": "ipython3",
   "version": "3.7.13"
  }
 },
 "nbformat": 4,
 "nbformat_minor": 5
}
