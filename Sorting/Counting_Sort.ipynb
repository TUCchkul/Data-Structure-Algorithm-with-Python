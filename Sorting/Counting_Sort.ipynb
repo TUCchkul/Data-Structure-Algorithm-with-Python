{
 "cells": [
  {
   "cell_type": "code",
   "execution_count": 3,
   "metadata": {},
   "outputs": [
    {
     "name": "stdout",
     "output_type": "stream",
     "text": [
      "[1, 1, 1, 2, 2, 2, 3, 3, 3, 4, 4]\n"
     ]
    }
   ],
   "source": [
    "def countSort(arr, b, k):\n",
    "    count=[0]*(k+2)\n",
    "    for i in arr:\n",
    "        count[i]=count[i]+1\n",
    "    for i in range(1, k+1):\n",
    "        count[i]=count[i-1]+count[i]\n",
    "    for i in range(len(arr)-1, -1,-1):\n",
    "        b[count[arr[i]]-1]=arr[i]\n",
    "        count[arr[i]]=count[arr[i]]-1\n",
    "\n",
    "arr=[3,2,3,2,4,1,1,3,2,1,4]\n",
    "k=max(arr)\n",
    "b=[0]*len(arr)\n",
    "countSort(arr, b, k)\n",
    "print(b)"
   ]
  },
  {
   "cell_type": "code",
   "execution_count": null,
   "metadata": {},
   "outputs": [],
   "source": []
  }
 ],
 "metadata": {
  "kernelspec": {
   "display_name": "Python 3",
   "language": "python",
   "name": "python3"
  },
  "language_info": {
   "codemirror_mode": {
    "name": "ipython",
    "version": 3
   },
   "file_extension": ".py",
   "mimetype": "text/x-python",
   "name": "python",
   "nbconvert_exporter": "python",
   "pygments_lexer": "ipython3",
   "version": "3.8.5"
  }
 },
 "nbformat": 4,
 "nbformat_minor": 4
}
