{
 "cells": [
  {
   "cell_type": "code",
   "execution_count": 5,
   "id": "fee1d021",
   "metadata": {},
   "outputs": [
    {
     "name": "stdout",
     "output_type": "stream",
     "text": [
      "[1, 2, 3, 4, 5, 7, 8]\n"
     ]
    }
   ],
   "source": [
    "def merge(arr, first, middle, last):\n",
    "    arr1=arr[first:middle+1]\n",
    "    arr2=arr[middle+1:last+1]\n",
    "    i=0\n",
    "    j=0\n",
    "    k=first\n",
    "    while i<len(arr1) and j<len(arr2):\n",
    "        if arr1[i]<=arr2[j]:\n",
    "            arr[k]=arr1[i]\n",
    "            i+=1\n",
    "            k+=1\n",
    "        else:\n",
    "            arr[k]=arr2[j]\n",
    "            j+=1\n",
    "            k+=1\n",
    "    while i<len(arr1):\n",
    "        arr[k]=arr1[i]\n",
    "        i+=1\n",
    "        k+=1\n",
    "    while j<len(arr2):\n",
    "        arr[k]=arr2[j]\n",
    "        j+=1\n",
    "        k+=1\n",
    "def mergesort(arr, first, last):\n",
    "    if first<last:\n",
    "        middle=(first+ last)//2\n",
    "        mergesort(arr, first, middle)\n",
    "        mergesort(arr, middle+1,last)\n",
    "        merge(arr, first, middle,last)\n",
    "arr=[5,4,3,1,7,8,2]\n",
    "first=0\n",
    "last=len(arr)-1\n",
    "mergesort(arr, first, last)\n",
    "print(arr)"
   ]
  },
  {
   "cell_type": "code",
   "execution_count": null,
   "id": "8e023df4",
   "metadata": {},
   "outputs": [],
   "source": []
  }
 ],
 "metadata": {
  "kernelspec": {
   "display_name": "Python 3 (ipykernel)",
   "language": "python",
   "name": "python3"
  },
  "language_info": {
   "codemirror_mode": {
    "name": "ipython",
    "version": 3
   },
   "file_extension": ".py",
   "mimetype": "text/x-python",
   "name": "python",
   "nbconvert_exporter": "python",
   "pygments_lexer": "ipython3",
   "version": "3.7.13"
  }
 },
 "nbformat": 4,
 "nbformat_minor": 5
}
