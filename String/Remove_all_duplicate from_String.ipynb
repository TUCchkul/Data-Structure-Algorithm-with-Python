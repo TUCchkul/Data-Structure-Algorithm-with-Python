{
 "cells": [
  {
   "cell_type": "code",
   "execution_count": 1,
   "id": "78bc31db",
   "metadata": {},
   "outputs": [
    {
     "name": "stdout",
     "output_type": "stream",
     "text": [
      "['c']\n"
     ]
    }
   ],
   "source": [
    "def remove_all_duplicate_from_string(ip_str):\n",
    "    count={}\n",
    "    for i in ip_str:\n",
    "        if i in count:\n",
    "            count[i]=count[i]+1\n",
    "        else:\n",
    "            count[i]=1\n",
    "    ip=list(ip_str)\n",
    "    i=0\n",
    "    while i<len(ip):\n",
    "        if count[ip[i]]>1:\n",
    "            ip.pop(i)\n",
    "        else:\n",
    "            i=i+1\n",
    "    return ip\n",
    "ip_str=\"abcabaaa\"\n",
    "dup_str1=remove_all_duplicate_from_string(ip_str)\n",
    "print(dup_str1)"
   ]
  },
  {
   "cell_type": "code",
   "execution_count": null,
   "id": "0f5f41b4",
   "metadata": {},
   "outputs": [],
   "source": []
  }
 ],
 "metadata": {
  "kernelspec": {
   "display_name": "Python 3 (ipykernel)",
   "language": "python",
   "name": "python3"
  },
  "language_info": {
   "codemirror_mode": {
    "name": "ipython",
    "version": 3
   },
   "file_extension": ".py",
   "mimetype": "text/x-python",
   "name": "python",
   "nbconvert_exporter": "python",
   "pygments_lexer": "ipython3",
   "version": "3.7.13"
  }
 },
 "nbformat": 4,
 "nbformat_minor": 5
}
