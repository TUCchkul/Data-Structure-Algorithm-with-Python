{
 "cells": [
  {
   "cell_type": "code",
   "execution_count": 1,
   "id": "168ea2e5",
   "metadata": {},
   "outputs": [
    {
     "name": "stdout",
     "output_type": "stream",
     "text": [
      "['a', 'b']\n"
     ]
    }
   ],
   "source": [
    "#time complexity o(n²)\n",
    "def remove_duplicate_char(ip_str):\n",
    "    count=[]\n",
    "    for i in list(set(ip_str)):\n",
    "        c=0\n",
    "        for j in ip_str:\n",
    "            if i==j:\n",
    "                c+=1\n",
    "        count.append([i,c])\n",
    "    ans=[]\n",
    "    for char,c in count:\n",
    "        if c>1:\n",
    "            ans.append(char)\n",
    "    return ans\n",
    "ip_str=\"abcabaaa\"\n",
    "dup_str=remove_duplicate_char(ip_str)\n",
    "print(dup_str)"
   ]
  },
  {
   "cell_type": "code",
   "execution_count": null,
   "id": "47b0929a",
   "metadata": {},
   "outputs": [],
   "source": [
    "# Optimze way\n",
    "#Time complexity(o(n))\n",
    "def Remove_duplicate_from_string(ip_str):\n",
    "    count={}\n",
    "    for i in ip_str:\n",
    "        if i in count:\n",
    "            count[i]=count[i]+1\n",
    "        else:\n",
    "            count[i]=1\n",
    "    "
   ]
  }
 ],
 "metadata": {
  "kernelspec": {
   "display_name": "Python 3 (ipykernel)",
   "language": "python",
   "name": "python3"
  },
  "language_info": {
   "codemirror_mode": {
    "name": "ipython",
    "version": 3
   },
   "file_extension": ".py",
   "mimetype": "text/x-python",
   "name": "python",
   "nbconvert_exporter": "python",
   "pygments_lexer": "ipython3",
   "version": "3.7.13"
  }
 },
 "nbformat": 4,
 "nbformat_minor": 5
}
