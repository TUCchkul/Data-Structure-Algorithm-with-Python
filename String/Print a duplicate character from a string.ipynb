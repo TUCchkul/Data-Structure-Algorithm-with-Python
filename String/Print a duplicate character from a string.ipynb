{
 "cells": [
  {
   "cell_type": "code",
   "execution_count": 1,
   "id": "b1dd39b9",
   "metadata": {},
   "outputs": [
    {
     "name": "stdout",
     "output_type": "stream",
     "text": [
      "['a', 'b']\n"
     ]
    }
   ],
   "source": [
    "#time complexity o(n²)\n",
    "def remove_duplicate_char(ip_str):\n",
    "    count=[]\n",
    "    for i in list(set(ip_str)):\n",
    "        c=0\n",
    "        for j in ip_str:\n",
    "            if i==j:\n",
    "                c+=1\n",
    "        count.append([i,c])\n",
    "    ans=[]\n",
    "    for char,c in count:\n",
    "        if c>1:\n",
    "            ans.append(char)\n",
    "    return ans\n",
    "ip_str=\"abcabaaa\"\n",
    "dup_str=remove_duplicate_char(ip_str)\n",
    "print(dup_str)"
   ]
  },
  {
   "cell_type": "code",
   "execution_count": 3,
   "id": "02ee93ac",
   "metadata": {},
   "outputs": [
    {
     "name": "stdout",
     "output_type": "stream",
     "text": [
      "['a', 'b']\n"
     ]
    }
   ],
   "source": [
    "# Optimze way\n",
    "#Time complexity(o(n))\n",
    "def Remove_duplicate_from_string(ip_str):\n",
    "    count={}\n",
    "    for i in ip_str:\n",
    "        if i in count:\n",
    "            count[i]=count[i]+1\n",
    "        else:\n",
    "            count[i]=1\n",
    "    ans=[]\n",
    "    for char, cou in count.items():\n",
    "        if cou>1:\n",
    "            ans.append(char)\n",
    "    return ans\n",
    "ip_str=\"abcabaaa\"\n",
    "dup_str1=Remove_duplicate_from_string(ip_str)\n",
    "print(dup_str1)"
   ]
  },
  {
   "cell_type": "code",
   "execution_count": null,
   "id": "d0891ddb",
   "metadata": {},
   "outputs": [],
   "source": []
  }
 ],
 "metadata": {
  "kernelspec": {
   "display_name": "Python 3 (ipykernel)",
   "language": "python",
   "name": "python3"
  },
  "language_info": {
   "codemirror_mode": {
    "name": "ipython",
    "version": 3
   },
   "file_extension": ".py",
   "mimetype": "text/x-python",
   "name": "python",
   "nbconvert_exporter": "python",
   "pygments_lexer": "ipython3",
   "version": "3.7.13"
  }
 },
 "nbformat": 4,
 "nbformat_minor": 5
}
