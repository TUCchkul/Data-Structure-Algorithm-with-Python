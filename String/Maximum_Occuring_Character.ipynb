{
 "cells": [
  {
   "cell_type": "code",
   "execution_count": 4,
   "metadata": {},
   "outputs": [],
   "source": [
    "import sys"
   ]
  },
  {
   "cell_type": "code",
   "execution_count": 15,
   "metadata": {},
   "outputs": [
    {
     "data": {
      "text/plain": [
       "'a'"
      ]
     },
     "execution_count": 15,
     "metadata": {},
     "output_type": "execute_result"
    }
   ],
   "source": [
    "def maxOccurChar1(ip_str):\n",
    "    count=[]\n",
    "    for i in list(set(ip_str)):\n",
    "        c=0\n",
    "        for j in ip_str:\n",
    "            if i==j:\n",
    "                c=c+1\n",
    "        count.append([i,c])\n",
    "    #print(count)\n",
    "    maxN=-sys.maxsize\n",
    "    ans=''\n",
    "    for char,cou in count:\n",
    "        if cou>maxN:\n",
    "            maxN=cou\n",
    "            ans=char\n",
    "    return ans\n",
    "ip_str = 'abcabacaa'      \n",
    "maxOccurChar1(ip_str)"
   ]
  },
  {
   "cell_type": "code",
   "execution_count": 12,
   "metadata": {},
   "outputs": [
    {
     "name": "stdout",
     "output_type": "stream",
     "text": [
      "2\n",
      "2\n",
      "5\n"
     ]
    }
   ],
   "source": [
    "a=[['b', 2], ['c', 2], ['a', 5]]\n",
    "for i,j in a:\n",
    "    print(j)"
   ]
  },
  {
   "cell_type": "code",
   "execution_count": 21,
   "metadata": {},
   "outputs": [],
   "source": [
    "# Optimize Way\n",
    "def maxOccurChar2(ip_str):\n",
    "    count={}\n",
    "    for i in ip_str:\n",
    "        if i in count:\n",
    "            count[i]=count[i]+1\n",
    "        else:\n",
    "            count[i]=1\n",
    "    maxOccur=sys.maxsize\n",
    "    higheststr=''\n",
    "    for le,num in count.items():\n",
    "        if num>maxOccur:\n",
    "            maxOccur=num\n",
    "            higheststr=le\n",
    "    return higheststr\n",
    "    "
   ]
  },
  {
   "cell_type": "code",
   "execution_count": 22,
   "metadata": {},
   "outputs": [
    {
     "name": "stdout",
     "output_type": "stream",
     "text": [
      "\n"
     ]
    }
   ],
   "source": [
    "\n",
    "ip_str = 'abcabacaa'      \n",
    "num=maxOccurChar2(ip_str)\n",
    "print(num)"
   ]
  },
  {
   "cell_type": "code",
   "execution_count": 2,
   "metadata": {},
   "outputs": [
    {
     "data": {
      "text/plain": [
       "{'a', 'b', 'c'}"
      ]
     },
     "execution_count": 2,
     "metadata": {},
     "output_type": "execute_result"
    }
   ],
   "source": [
    "set(ip_str)"
   ]
  },
  {
   "cell_type": "code",
   "execution_count": 6,
   "metadata": {},
   "outputs": [
    {
     "name": "stdout",
     "output_type": "stream",
     "text": [
      "b\n",
      "c\n",
      "a\n"
     ]
    }
   ],
   "source": [
    "abc=list(set(ip_str))\n",
    "for i in abc:\n",
    "    print(i)"
   ]
  },
  {
   "cell_type": "code",
   "execution_count": null,
   "metadata": {},
   "outputs": [],
   "source": [
    " for i in list(set(ip_str)):"
   ]
  }
 ],
 "metadata": {
  "kernelspec": {
   "display_name": "Python 3",
   "language": "python",
   "name": "python3"
  },
  "language_info": {
   "codemirror_mode": {
    "name": "ipython",
    "version": 3
   },
   "file_extension": ".py",
   "mimetype": "text/x-python",
   "name": "python",
   "nbconvert_exporter": "python",
   "pygments_lexer": "ipython3",
   "version": "3.8.5"
  }
 },
 "nbformat": 4,
 "nbformat_minor": 4
}
