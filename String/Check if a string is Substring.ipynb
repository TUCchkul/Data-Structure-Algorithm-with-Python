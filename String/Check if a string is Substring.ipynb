{
 "cells": [
  {
   "cell_type": "code",
   "execution_count": 13,
   "id": "43735249",
   "metadata": {},
   "outputs": [
    {
     "name": "stdout",
     "output_type": "stream",
     "text": [
      "the length of M: 5\n",
      "the length of N: 9\n",
      "I is: 0\n",
      "J is: 0\n",
      "s2[i+j]: i s1[j]: e\n",
      "j+1: 1 is equal to m:5\n",
      "I is: 1\n",
      "J is: 0\n",
      "s2[i+j]: n s1[j]: e\n",
      "j+1: 1 is equal to m:5\n",
      "I is: 2\n",
      "J is: 0\n",
      "s2[i+j]: e s1[j]: e\n",
      "J is: 1\n",
      "s2[i+j]: u s1[j]: u\n",
      "J is: 2\n",
      "s2[i+j]: r s1[j]: r\n",
      "J is: 3\n",
      "s2[i+j]: o s1[j]: o\n",
      "J is: 4\n",
      "s2[i+j]: n s1[j]: p\n",
      "j+1: 5 is equal to m:5\n",
      "2\n"
     ]
    }
   ],
   "source": [
    "def isSubstring(s1,s2):\n",
    "    m=len(s1)\n",
    "    print(f\"the length of M: {m}\")\n",
    "    n=len(s2)\n",
    "    print(f\"the length of N: {n}\")\n",
    "    for i in range(n-m+1):\n",
    "        print(f\"I is: {i}\")\n",
    "        for j in range(m):\n",
    "            print(f\"J is: {j}\")\n",
    "            print(f\"s2[i+j]: {s2[i+j]} s1[j]: {s1[j]}\")\n",
    "            if s2[i+j]!=s1[j]:\n",
    "                break\n",
    "        print(f\"j+1: {j+1} is equal to m:{m}\")\n",
    "        if j+1==m:\n",
    "            return i\n",
    "    return -1\n",
    "    \n",
    "s1=\"europ\"\n",
    "s2=\"ineuronin\"\n",
    "flag=isSubstring(s1,s2)\n",
    "print(flag)"
   ]
  },
  {
   "cell_type": "code",
   "execution_count": null,
   "id": "fee81b6c",
   "metadata": {},
   "outputs": [],
   "source": []
  }
 ],
 "metadata": {
  "kernelspec": {
   "display_name": "Python 3 (ipykernel)",
   "language": "python",
   "name": "python3"
  },
  "language_info": {
   "codemirror_mode": {
    "name": "ipython",
    "version": 3
   },
   "file_extension": ".py",
   "mimetype": "text/x-python",
   "name": "python",
   "nbconvert_exporter": "python",
   "pygments_lexer": "ipython3",
   "version": "3.7.13"
  }
 },
 "nbformat": 4,
 "nbformat_minor": 5
}
