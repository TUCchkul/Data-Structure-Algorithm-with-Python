{
 "cells": [
  {
   "cell_type": "markdown",
   "id": "65ff9852",
   "metadata": {},
   "source": [
    "# Reverse a String"
   ]
  },
  {
   "cell_type": "code",
   "execution_count": 8,
   "id": "be53e06d",
   "metadata": {},
   "outputs": [
    {
     "name": "stdout",
     "output_type": "stream",
     "text": [
      "akhash\n",
      "['h', 's', 'a', 'h', 'k', 'a']\n",
      "hsahka\n"
     ]
    }
   ],
   "source": [
    "#time and space complexity O(n)\n",
    "ip_string=\"akhash\"\n",
    "op_str='*'*len(string)\n",
    "ip_str=list(ip_string)\n",
    "op_string=list(op_str)\n",
    "j=0\n",
    "for i in range(len(ip_string)-1,-1,-1):\n",
    "    op_string[j]=ip_str[i]\n",
    "    j=j+1\n",
    "print(ip_string)\n",
    "print(op_string)\n",
    "op_str=''.join(op_string)\n",
    "print(op_str)\n",
    "#ReverseAString(string)"
   ]
  },
  {
   "cell_type": "code",
   "execution_count": null,
   "id": "e6c0ee76",
   "metadata": {},
   "outputs": [],
   "source": [
    "# Optimize approach\n",
    "ip_str='akarsh'\n",
    "ip_str=list(ip_str)\n",
    "i=0\n",
    "j=len(ip_str)-1\n",
    "while i<j:\n",
    "    ip_str[i],ip_str[j]=ip_str[j],ip_str"
   ]
  }
 ],
 "metadata": {
  "kernelspec": {
   "display_name": "Python 3 (ipykernel)",
   "language": "python",
   "name": "python3"
  },
  "language_info": {
   "codemirror_mode": {
    "name": "ipython",
    "version": 3
   },
   "file_extension": ".py",
   "mimetype": "text/x-python",
   "name": "python",
   "nbconvert_exporter": "python",
   "pygments_lexer": "ipython3",
   "version": "3.7.13"
  }
 },
 "nbformat": 4,
 "nbformat_minor": 5
}
