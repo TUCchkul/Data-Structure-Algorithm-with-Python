{
 "cells": [
  {
   "cell_type": "markdown",
   "id": "ea0541c7",
   "metadata": {},
   "source": [
    "# Reverse a String"
   ]
  },
  {
   "cell_type": "code",
   "execution_count": 6,
   "id": "70999273",
   "metadata": {},
   "outputs": [
    {
     "name": "stdout",
     "output_type": "stream",
     "text": [
      "akhash\n",
      "['h', 's', 'a', 'h', 'k', 'a']\n"
     ]
    }
   ],
   "source": [
    "\n",
    "ip_string=\"akhash\"\n",
    "op_str='*'*len(string)\n",
    "ip_str=list(ip_string)\n",
    "op_string=list(op_str)\n",
    "j=0\n",
    "for i in range(len(ip_string)-1,-1,-1):\n",
    "    op_string[j]=ip_str[i]\n",
    "    j=j+1\n",
    "print(ip_string)\n",
    "op_str=''.join(op_string)\n",
    "print(op_stri)\n",
    "#ReverseAString(string)"
   ]
  },
  {
   "cell_type": "code",
   "execution_count": null,
   "id": "e79fd0c1",
   "metadata": {},
   "outputs": [],
   "source": []
  }
 ],
 "metadata": {
  "kernelspec": {
   "display_name": "Python 3 (ipykernel)",
   "language": "python",
   "name": "python3"
  },
  "language_info": {
   "codemirror_mode": {
    "name": "ipython",
    "version": 3
   },
   "file_extension": ".py",
   "mimetype": "text/x-python",
   "name": "python",
   "nbconvert_exporter": "python",
   "pygments_lexer": "ipython3",
   "version": "3.7.13"
  }
 },
 "nbformat": 4,
 "nbformat_minor": 5
}
