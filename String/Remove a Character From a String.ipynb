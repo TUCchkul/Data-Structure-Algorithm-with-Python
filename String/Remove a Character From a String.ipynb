{
 "cells": [
  {
   "cell_type": "code",
   "execution_count": 2,
   "id": "0d6e3fc4",
   "metadata": {},
   "outputs": [
    {
     "name": "stdout",
     "output_type": "stream",
     "text": [
      "k r s c h\n"
     ]
    }
   ],
   "source": [
    "def remove_str(ip_str, char):\n",
    "    ip_st=list(ip_str)\n",
    "    i=0\n",
    "    while i<len(ip_st):\n",
    "        if ip_st[i]==char:\n",
    "            ip_st.pop(i)\n",
    "        else:\n",
    "            i=i+1\n",
    "    ip_str=\" \".join(ip_st)\n",
    "    return ip_str\n",
    "ip_str=\"akarsch\"\n",
    "char='a'\n",
    "ret_str=remove_str(ip_str,char)\n",
    "print(ret_str)"
   ]
  },
  {
   "cell_type": "code",
   "execution_count": null,
   "id": "2cb4a5a7",
   "metadata": {},
   "outputs": [],
   "source": []
  }
 ],
 "metadata": {
  "kernelspec": {
   "display_name": "Python 3 (ipykernel)",
   "language": "python",
   "name": "python3"
  },
  "language_info": {
   "codemirror_mode": {
    "name": "ipython",
    "version": 3
   },
   "file_extension": ".py",
   "mimetype": "text/x-python",
   "name": "python",
   "nbconvert_exporter": "python",
   "pygments_lexer": "ipython3",
   "version": "3.7.13"
  }
 },
 "nbformat": 4,
 "nbformat_minor": 5
}
