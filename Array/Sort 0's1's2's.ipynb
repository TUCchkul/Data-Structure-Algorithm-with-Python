{
 "cells": [
  {
   "cell_type": "code",
   "execution_count": 6,
   "id": "633efecd",
   "metadata": {},
   "outputs": [
    {
     "name": "stdout",
     "output_type": "stream",
     "text": [
      "[0, 0, 0, 1, 1, 1, 1, 2, 2]\n"
     ]
    }
   ],
   "source": [
    "# time complexity O(nlogn)\n",
    "def sort012(arr):\n",
    "    arr.sort()\n",
    "arr=[1,1,2,2,1,0,1,0,0]\n",
    "sort012(arr)\n",
    "print(arr)"
   ]
  },
  {
   "cell_type": "code",
   "execution_count": 5,
   "id": "9ec48e02",
   "metadata": {},
   "outputs": [
    {
     "name": "stdout",
     "output_type": "stream",
     "text": [
      "[0, 0, 0, 1, 1, 1, 1, 2, 2]\n"
     ]
    }
   ],
   "source": [
    "#Time complexity O(n)\n",
    "def sortZeroOneTwo(arr):\n",
    "    count0=0\n",
    "    count1=0\n",
    "    for i in arr:\n",
    "        if i==0:\n",
    "            count0=count0+1\n",
    "        elif i==1:\n",
    "            count1=count1+1\n",
    "    for i in range(0,count0):\n",
    "        arr[i]=0\n",
    "    for i in range(count0,count1+count0):\n",
    "        arr[i]=1\n",
    "    for i in range(count1+count0, len(arr)):\n",
    "        arr[i]=2\n",
    "arr=[1,1,2,2,1,0,1,0,0]\n",
    "sortZeroOneTwo(arr)\n",
    "print(arr)"
   ]
  },
  {
   "cell_type": "code",
   "execution_count": null,
   "id": "d6ae8334",
   "metadata": {},
   "outputs": [],
   "source": [
    "def sortZeroto2(arr):\n",
    "    low=0\n",
    "    high=len(arr)-1\n",
    "    mid=0\n",
    "    while mid<=high:\n",
    "        if arr[mid]==0:\n",
    "            arr[low],arr[mid]=arr[mid],arr[low]\n",
    "            low=low+1\n",
    "            mid=mid+1\n",
    "        elif arr[mid]==1:\n",
    "            mid=mid+1\n",
    "        else:\n",
    "            arr[mid],arr[high]=arr[high],arr[mid]\n",
    "    return arr\n",
    "arr=[1,1,2,2,1,0,1,0,0]\n",
    "sortZeroto2(arr)\n",
    "print(arr)"
   ]
  },
  {
   "cell_type": "code",
   "execution_count": null,
   "id": "779c0029",
   "metadata": {},
   "outputs": [],
   "source": []
  }
 ],
 "metadata": {
  "kernelspec": {
   "display_name": "Python 3 (ipykernel)",
   "language": "python",
   "name": "python3"
  },
  "language_info": {
   "codemirror_mode": {
    "name": "ipython",
    "version": 3
   },
   "file_extension": ".py",
   "mimetype": "text/x-python",
   "name": "python",
   "nbconvert_exporter": "python",
   "pygments_lexer": "ipython3",
   "version": "3.7.13"
  }
 },
 "nbformat": 4,
 "nbformat_minor": 5
}
