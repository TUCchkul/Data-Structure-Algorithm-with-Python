{
 "cells": [
  {
   "cell_type": "code",
   "execution_count": 7,
   "id": "94f89aa5",
   "metadata": {},
   "outputs": [
    {
     "name": "stdout",
     "output_type": "stream",
     "text": [
      "3\n",
      "[3, 5, 7]\n"
     ]
    }
   ],
   "source": [
    "def diagonal_left(mat):\n",
    "    dia=[]\n",
    "    for i in range(len(mat)):\n",
    "        for j in range(len(mat[0])):\n",
    "            if i==j:\n",
    "                dia.append(mat[i][j])\n",
    "    return dia\n",
    "def diagonal_right(mat):\n",
    "    dia=[]\n",
    "    for i in range(len(mat)):\n",
    "        for j in range(len(mat[0])):\n",
    "            if i+j==len(mat)-1:\n",
    "                dia.append(mat[i][j])\n",
    "    return dia\n",
    "#optimize the code\n",
    "def digonal_left1(mat):\n",
    "    dia=[]\n",
    "    for i in range(len(mat)):\n",
    "        dia.append(mat[i][i])\n",
    "    return dia\n",
    "def diagonal_reight1(mat):\n",
    "    dia=[]\n",
    "    j=len(mat)-1\n",
    "    for i in range(len(mat)):\n",
    "        dia.append(mat[i][j])\n",
    "        j=j-1\n",
    "    return dia\n",
    "matrix=[[1,2,3],\n",
    "       [4,5,6],\n",
    "        [7,8,9]]\n",
    "print(len(matrix))\n",
    "row=diagonal_reight1(matrix)\n",
    "print(row)"
   ]
  },
  {
   "cell_type": "code",
   "execution_count": null,
   "id": "dc5c47c6",
   "metadata": {},
   "outputs": [],
   "source": []
  },
  {
   "cell_type": "code",
   "execution_count": null,
   "id": "92974a3f",
   "metadata": {},
   "outputs": [],
   "source": []
  }
 ],
 "metadata": {
  "kernelspec": {
   "display_name": "Python 3 (ipykernel)",
   "language": "python",
   "name": "python3"
  },
  "language_info": {
   "codemirror_mode": {
    "name": "ipython",
    "version": 3
   },
   "file_extension": ".py",
   "mimetype": "text/x-python",
   "name": "python",
   "nbconvert_exporter": "python",
   "pygments_lexer": "ipython3",
   "version": "3.7.13"
  }
 },
 "nbformat": 4,
 "nbformat_minor": 5
}
