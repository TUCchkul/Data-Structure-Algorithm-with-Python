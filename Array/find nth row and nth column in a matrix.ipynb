{
 "cells": [
  {
   "cell_type": "code",
   "execution_count": 5,
   "id": "907026ea",
   "metadata": {},
   "outputs": [
    {
     "name": "stdout",
     "output_type": "stream",
     "text": [
      "[2, 5, 8]\n"
     ]
    }
   ],
   "source": [
    "def nthRow(mat,n):\n",
    "    if n>=len(mat):\n",
    "        return -1\n",
    "    row=[]\n",
    "    for i in range(len(mat)):\n",
    "        row.append(mat[n-1][i])\n",
    "    return row\n",
    "\n",
    "def nthCol(mat,n):\n",
    "    if n>=len(mat):\n",
    "        return -1\n",
    "    col=[]\n",
    "    for i in range(len(mat)):\n",
    "        col.append(mat[i][n-1])\n",
    "    return col\n",
    "matrix=[[1,2,3],\n",
    "       [4,5,6],\n",
    "       [7,8,9]]\n",
    "n=2\n",
    "row=nthCol(matrix,n)\n",
    "print(row)"
   ]
  },
  {
   "cell_type": "code",
   "execution_count": null,
   "id": "ec32958e",
   "metadata": {},
   "outputs": [],
   "source": []
  },
  {
   "cell_type": "code",
   "execution_count": null,
   "id": "147ae03d",
   "metadata": {},
   "outputs": [],
   "source": []
  }
 ],
 "metadata": {
  "kernelspec": {
   "display_name": "Python 3 (ipykernel)",
   "language": "python",
   "name": "python3"
  },
  "language_info": {
   "codemirror_mode": {
    "name": "ipython",
    "version": 3
   },
   "file_extension": ".py",
   "mimetype": "text/x-python",
   "name": "python",
   "nbconvert_exporter": "python",
   "pygments_lexer": "ipython3",
   "version": "3.7.13"
  }
 },
 "nbformat": 4,
 "nbformat_minor": 5
}
