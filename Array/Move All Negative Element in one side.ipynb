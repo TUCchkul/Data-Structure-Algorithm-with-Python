{
 "cells": [
  {
   "cell_type": "code",
   "execution_count": null,
   "id": "85f52db1",
   "metadata": {},
   "outputs": [],
   "source": [
    "def sortedOrNot(arr):\n",
    "    if len(arr)==0 or len(arr)==1:\n",
    "        return True\n",
    "    return arr[0]<arr[1]  and sortedOrNot(arr1:)\n",
    "arr=[1,2,5,7,8]"
   ]
  }
 ],
 "metadata": {
  "kernelspec": {
   "display_name": "Python 3 (ipykernel)",
   "language": "python",
   "name": "python3"
  },
  "language_info": {
   "codemirror_mode": {
    "name": "ipython",
    "version": 3
   },
   "file_extension": ".py",
   "mimetype": "text/x-python",
   "name": "python",
   "nbconvert_exporter": "python",
   "pygments_lexer": "ipython3",
   "version": "3.7.13"
  }
 },
 "nbformat": 4,
 "nbformat_minor": 5
}
