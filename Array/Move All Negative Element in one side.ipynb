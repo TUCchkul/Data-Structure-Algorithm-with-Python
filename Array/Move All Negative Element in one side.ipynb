{
 "cells": [
  {
   "cell_type": "markdown",
   "id": "51a27e25",
   "metadata": {},
   "source": [
    "# Recursive Approach"
   ]
  },
  {
   "cell_type": "code",
   "execution_count": 2,
   "id": "55e58226",
   "metadata": {},
   "outputs": [
    {
     "data": {
      "text/plain": [
       "False"
      ]
     },
     "execution_count": 2,
     "metadata": {},
     "output_type": "execute_result"
    }
   ],
   "source": [
    "def sortedOrNot1(arr):\n",
    "    if len(arr)==0 or len(arr)==1:\n",
    "        return True\n",
    "    return arr[0]<arr[1]  and sortedOrNot1(arr[1:])\n",
    "arr=[1,2,5,70,8]\n",
    "sortedOrNot1(arr)"
   ]
  },
  {
   "cell_type": "code",
   "execution_count": 6,
   "id": "17eac7ef",
   "metadata": {},
   "outputs": [
    {
     "data": {
      "text/plain": [
       "True"
      ]
     },
     "execution_count": 6,
     "metadata": {},
     "output_type": "execute_result"
    }
   ],
   "source": [
    "def sortedOrNot2(arr):\n",
    "    if len(arr)==0 or len(arr)==1:\n",
    "        return True\n",
    "    n=len(arr)\n",
    "    return arr[n-2]< arr[n-1] and sortedOrNot2(arr[0:n-1])\n",
    "arr=[1,2,5,7,8]\n",
    "sortedOrNot2(arr)"
   ]
  },
  {
   "cell_type": "code",
   "execution_count": 10,
   "id": "4adf172e",
   "metadata": {},
   "outputs": [
    {
     "name": "stdout",
     "output_type": "stream",
     "text": [
      "[1, 2, 5, 7]\n"
     ]
    }
   ],
   "source": [
    "arr=[1,2,5,7,8]\n",
    "n=len(arr)\n",
    "if arr[n-2]< arr[n-1] and sortedOrNot2(arr[0:n-1]):\n",
    "    print(arr[0:n-1])"
   ]
  },
  {
   "cell_type": "markdown",
   "id": "6a3e11a7",
   "metadata": {},
   "source": [
    "# Iterative Approach"
   ]
  },
  {
   "cell_type": "code",
   "execution_count": null,
   "id": "ea19896d",
   "metadata": {},
   "outputs": [],
   "source": [
    "def sortedOrNot3(arr):\n",
    "    if len(arr)==0 or len(arr)==1:\n",
    "        return rue\n",
    "    n=len(arr)\n",
    "    for i in ran\n",
    "arr=[1,2,5,7,8]\n",
    "sortedOrNot3(arr)"
   ]
  }
 ],
 "metadata": {
  "kernelspec": {
   "display_name": "Python 3 (ipykernel)",
   "language": "python",
   "name": "python3"
  },
  "language_info": {
   "codemirror_mode": {
    "name": "ipython",
    "version": 3
   },
   "file_extension": ".py",
   "mimetype": "text/x-python",
   "name": "python",
   "nbconvert_exporter": "python",
   "pygments_lexer": "ipython3",
   "version": "3.7.13"
  }
 },
 "nbformat": 4,
 "nbformat_minor": 5
}
