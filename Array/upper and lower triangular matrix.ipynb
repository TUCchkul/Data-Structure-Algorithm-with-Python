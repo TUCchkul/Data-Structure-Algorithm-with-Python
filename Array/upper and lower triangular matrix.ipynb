{
 "cells": [
  {
   "cell_type": "code",
   "execution_count": 18,
   "id": "f24acc54",
   "metadata": {},
   "outputs": [
    {
     "name": "stdout",
     "output_type": "stream",
     "text": [
      " Upper Triangualr Matrix: [[1, 2, 3], [5, 6], [9]]\n",
      " lower Triangualr Matrix: [[1], [4, 5], [7, 8, 9]]\n"
     ]
    }
   ],
   "source": [
    "def upperTriangular(mat):\n",
    "    tri=[]\n",
    "    for i in range(len(mat)):\n",
    "        row=[]\n",
    "        for j in range(len(mat[0])):\n",
    "            if i<=j:\n",
    "                row.append(mat[i][j])\n",
    "        tri.append(row)\n",
    "    return tri\n",
    "def lowerTriangular(mat):\n",
    "    tri=[]\n",
    "    for i in range(len(mat)):\n",
    "        row=[]\n",
    "        for j in range(len(mat[0])):\n",
    "            if i>=j:\n",
    "                row.append(mat[i][j])\n",
    "        tri.append(row) \n",
    "    return tri\n",
    "    \n",
    "\n",
    "mat=[\n",
    "    [1,2,3],\n",
    "    [4,5,6],\n",
    "    [7,8,9]\n",
    "]\n",
    "upp=upperTriangular(mat)\n",
    "print(f\" Upper Triangualr Matrix: {upp}\")\n",
    "low=lowerTriangular(mat)\n",
    "print(f\" lower Triangualr Matrix: {low}\")"
   ]
  },
  {
   "cell_type": "code",
   "execution_count": 19,
   "id": "3669820a",
   "metadata": {},
   "outputs": [
    {
     "data": {
      "text/plain": [
       "3"
      ]
     },
     "execution_count": 19,
     "metadata": {},
     "output_type": "execute_result"
    }
   ],
   "source": [
    "len(mat[0])"
   ]
  },
  {
   "cell_type": "code",
   "execution_count": 4,
   "id": "7095f130",
   "metadata": {},
   "outputs": [
    {
     "data": {
      "text/plain": [
       "3"
      ]
     },
     "execution_count": 4,
     "metadata": {},
     "output_type": "execute_result"
    }
   ],
   "source": [
    "len(mat)"
   ]
  },
  {
   "cell_type": "code",
   "execution_count": null,
   "id": "5f679d29",
   "metadata": {},
   "outputs": [],
   "source": []
  }
 ],
 "metadata": {
  "kernelspec": {
   "display_name": "Python 3 (ipykernel)",
   "language": "python",
   "name": "python3"
  },
  "language_info": {
   "codemirror_mode": {
    "name": "ipython",
    "version": 3
   },
   "file_extension": ".py",
   "mimetype": "text/x-python",
   "name": "python",
   "nbconvert_exporter": "python",
   "pygments_lexer": "ipython3",
   "version": "3.7.13"
  }
 },
 "nbformat": 4,
 "nbformat_minor": 5
}
