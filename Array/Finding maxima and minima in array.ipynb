{
 "cells": [
  {
   "cell_type": "code",
   "execution_count": 2,
   "metadata": {},
   "outputs": [
    {
     "name": "stdout",
     "output_type": "stream",
     "text": [
      "[1, 1]\n"
     ]
    }
   ],
   "source": [
    "l=[1,2,1]\n",
    "l.pop(1)\n",
    "print(l)"
   ]
  },
  {
   "cell_type": "code",
   "execution_count": 4,
   "metadata": {},
   "outputs": [
    {
     "name": "stdout",
     "output_type": "stream",
     "text": [
      "0\n"
     ]
    }
   ],
   "source": [
    "l=[]\n",
    "print(len(l))"
   ]
  },
  {
   "cell_type": "code",
   "execution_count": 5,
   "metadata": {},
   "outputs": [],
   "source": [
    "def min(arr):\n",
    "    if len(arr)==0:\n",
    "        minEl=-1\n",
    "    else:\n",
    "        arr.sort()#\n",
    "        minEl=arr[0]\n",
    "    return minEl\n"
   ]
  },
  {
   "cell_type": "code",
   "execution_count": 7,
   "metadata": {},
   "outputs": [
    {
     "name": "stdout",
     "output_type": "stream",
     "text": [
      "2\n"
     ]
    }
   ],
   "source": [
    "arr=[9,6,3,2,5,4,8]\n",
    "minE=min(arr)\n",
    "print(minE)"
   ]
  },
  {
   "cell_type": "code",
   "execution_count": 3,
   "metadata": {},
   "outputs": [
    {
     "name": "stdout",
     "output_type": "stream",
     "text": [
      "2\n",
      "9\n"
     ]
    }
   ],
   "source": [
    "import sys\n",
    "def maxE(arr):\n",
    "    if len(arr)==0:\n",
    "        maxelement=-1\n",
    "    else:\n",
    "        maxelement=-sys.maxsize\n",
    "        for i in arr:\n",
    "            if i>maxelement:\n",
    "                maxelement=i\n",
    "        return maxelement\n",
    "def minE(arr):\n",
    "    if len(arr)==0:\n",
    "        minE=-1\n",
    "    else:\n",
    "        minE=sys.maxsize\n",
    "        for i in arr:\n",
    "            if i<minE:\n",
    "                minE=i\n",
    "        return minE\n",
    "\n",
    "arr=[9,6,3,2,5,4,8]\n",
    "maxeE=maxE(arr) \n",
    "minele=minE(arr)\n",
    "print(minele)\n",
    "print(maxeE)"
   ]
  },
  {
   "cell_type": "markdown",
   "metadata": {},
   "source": [
    "# Reverse an Array"
   ]
  },
  {
   "cell_type": "code",
   "execution_count": 14,
   "metadata": {},
   "outputs": [
    {
     "data": {
      "text/plain": [
       "[6, 5, 4, 3, 2, 1]"
      ]
     },
     "execution_count": 14,
     "metadata": {},
     "output_type": "execute_result"
    }
   ],
   "source": [
    "def reverse(ip_array):\n",
    "    op_arr=[-1]*len(ip_array)\n",
    "    \n",
    "    j=0\n",
    "    for i in range(len(ip_array)-1,-1,-1):\n",
    "        op_arr[j]=ip_array[i]\n",
    "        j=j+1\n",
    "    return op_arr\n",
    "#two pointer approach\n",
    "def reverse2(arr):\n",
    "    i=0\n",
    "    j=len(arr)-1\n",
    "    while i<j:\n",
    "        arr[i], arr[j]=arr[j],arr[i]\n",
    "        i=i+1\n",
    "        j=j-1\n",
    "    return arr\n",
    "ip_array=[1,2,3,4,5,6]\n",
    "reverse(ip_array)\n",
    "reverse2(ip_array)\n"
   ]
  },
  {
   "cell_type": "markdown",
   "metadata": {},
   "source": [
    "# Most Frequent count element in an Array"
   ]
  },
  {
   "cell_type": "code",
   "execution_count": 32,
   "metadata": {},
   "outputs": [],
   "source": [
    "def mostFreqElement(arr):\n",
    "    count=[]\n",
    "    for i in list(set(arr)):\n",
    "        c=0\n",
    "        for j in arr:\n",
    "            if i==j:\n",
    "                c=c+1\n",
    "        count.append([i,c])\n",
    "        \n",
    "    #print(count)\n",
    "    maxN=-sys.maxsize\n",
    "    ans=-1\n",
    "    for num,cou in count:\n",
    "        if cou>maxN:\n",
    "            maxN=cou\n",
    "            ans=num\n",
    "    return ans\n",
    "def mostFreqElementwithdict(arr):\n",
    "    count={}\n",
    "    for i in arr:\n",
    "        if i not in count:\n",
    "            count[i]=1\n",
    "        else:\n",
    "            count[i]=count[i]+1\n",
    "    #print(count)\n",
    "    maxnum=-sys.maxsize\n",
    "    ans=-1\n",
    "    for num, cou in count.items():\n",
    "        if cou>maxnum:\n",
    "            maxnum=cou\n",
    "            ans=num\n",
    "    return ans\n",
    "        "
   ]
  },
  {
   "cell_type": "code",
   "execution_count": 33,
   "metadata": {},
   "outputs": [
    {
     "data": {
      "text/plain": [
       "1"
      ]
     },
     "execution_count": 33,
     "metadata": {},
     "output_type": "execute_result"
    }
   ],
   "source": [
    "arr=[1,1,2,2,3,3,4,4,1,1,1,5,6,5,6]\n",
    "mostFreqElementwithdict(arr)"
   ]
  },
  {
   "cell_type": "markdown",
   "metadata": {},
   "source": [
    "# Finding non repeated elements in an array"
   ]
  },
  {
   "cell_type": "code",
   "execution_count": 35,
   "metadata": {},
   "outputs": [
    {
     "data": {
      "text/plain": [
       "[1, 5, 9]"
      ]
     },
     "execution_count": 35,
     "metadata": {},
     "output_type": "execute_result"
    }
   ],
   "source": [
    "def nonRepeatingElement(arr):\n",
    "    count={}\n",
    "    for i in arr:\n",
    "        if i not in count:\n",
    "            count[i]=1\n",
    "        else:\n",
    "            count[i]=count[i]+1\n",
    "   # print(count)\n",
    "    ans=[]\n",
    "    for num,cun in count.items():\n",
    "        if cun==1:\n",
    "            ans.append(num)\n",
    "    return ans\n",
    "ip_array=[1,7,7,5,2,2,9]\n",
    "nonRepeatingElement(ip_array)"
   ]
  },
  {
   "cell_type": "markdown",
   "metadata": {},
   "source": [
    "# Finding Duplicate elements"
   ]
  },
  {
   "cell_type": "code",
   "execution_count": 9,
   "metadata": {},
   "outputs": [
    {
     "name": "stdout",
     "output_type": "stream",
     "text": [
      "Number: 1 and count: 1\n",
      "Number: 7 and count: 2\n",
      "Number: 5 and count: 1\n",
      "Number: 2 and count: 2\n",
      "Number: 9 and count: 1\n"
     ]
    },
    {
     "data": {
      "text/plain": [
       "[7, 2]"
      ]
     },
     "execution_count": 9,
     "metadata": {},
     "output_type": "execute_result"
    }
   ],
   "source": [
    "def findingduplicateElement(arr):\n",
    "    count={}\n",
    "    for i in arr:\n",
    "        if i not in count:\n",
    "            count[i]=1\n",
    "        else:\n",
    "            count[i]=count[i]+1\n",
    "    ans=[]\n",
    "    for num,cun in count.items():\n",
    "        print(f\"Number: {num} and count: {cun}\")\n",
    "        if cun>1:\n",
    "            ans.append(num)\n",
    "    return ans\n",
    "    \n",
    "arr=[1,7,7,5,2,2,9]\n",
    "findingduplicateElement(arr)"
   ]
  },
  {
   "cell_type": "markdown",
   "metadata": {},
   "source": [
    "# First Repeating Elements in an array"
   ]
  },
  {
   "cell_type": "code",
   "execution_count": 10,
   "metadata": {},
   "outputs": [
    {
     "name": "stdout",
     "output_type": "stream",
     "text": [
      "Number: 1 and count: 1\n",
      "[]\n"
     ]
    },
    {
     "ename": "IndexError",
     "evalue": "list index out of range",
     "output_type": "error",
     "traceback": [
      "\u001b[1;31m---------------------------------------------------------------------------\u001b[0m",
      "\u001b[1;31mIndexError\u001b[0m                                Traceback (most recent call last)",
      "\u001b[1;32m<ipython-input-10-470251a6daca>\u001b[0m in \u001b[0;36m<module>\u001b[1;34m\u001b[0m\n\u001b[0;32m     15\u001b[0m \u001b[0mip_arr\u001b[0m\u001b[1;33m=\u001b[0m\u001b[1;33m[\u001b[0m\u001b[1;36m1\u001b[0m\u001b[1;33m,\u001b[0m\u001b[1;36m7\u001b[0m\u001b[1;33m,\u001b[0m\u001b[1;36m7\u001b[0m\u001b[1;33m,\u001b[0m\u001b[1;36m5\u001b[0m\u001b[1;33m,\u001b[0m\u001b[1;36m2\u001b[0m\u001b[1;33m,\u001b[0m\u001b[1;36m2\u001b[0m\u001b[1;33m,\u001b[0m\u001b[1;36m9\u001b[0m\u001b[1;33m]\u001b[0m\u001b[1;33m\u001b[0m\u001b[1;33m\u001b[0m\u001b[0m\n\u001b[0;32m     16\u001b[0m \u001b[0mresult\u001b[0m\u001b[1;33m=\u001b[0m\u001b[0mfirsRepeatingElement\u001b[0m\u001b[1;33m(\u001b[0m\u001b[0mip_arr\u001b[0m\u001b[1;33m)\u001b[0m\u001b[1;33m\u001b[0m\u001b[1;33m\u001b[0m\u001b[0m\n\u001b[1;32m---> 17\u001b[1;33m \u001b[0mresult\u001b[0m\u001b[1;33m[\u001b[0m\u001b[1;36m0\u001b[0m\u001b[1;33m]\u001b[0m\u001b[1;33m\u001b[0m\u001b[1;33m\u001b[0m\u001b[0m\n\u001b[0m\u001b[0;32m     18\u001b[0m \u001b[1;31m#print(f\"The first Repeating Elements:{result[0]}\")\u001b[0m\u001b[1;33m\u001b[0m\u001b[1;33m\u001b[0m\u001b[1;33m\u001b[0m\u001b[0m\n\u001b[0;32m     19\u001b[0m \u001b[1;33m\u001b[0m\u001b[0m\n",
      "\u001b[1;31mIndexError\u001b[0m: list index out of range"
     ]
    }
   ],
   "source": [
    "def firsRepeatingElement(arr):\n",
    "    count={}\n",
    "    for i in arr:\n",
    "        if i not in count:\n",
    "            count[i]=1\n",
    "        else:\n",
    "            count[i]=count[i]+1\n",
    "    ans=[]\n",
    "    for num,co in count.items():\n",
    "        print(f\"Number: {num} and count: {co}\")\n",
    "        if co>1:\n",
    "            ans.append(num)\n",
    "        print(ans)\n",
    "        return ans\n",
    "ip_arr=[1,7,7,5,2,2,9]\n",
    "result=firsRepeatingElement(ip_arr)\n",
    "result[0]\n",
    "#print(f\"The first Repeating Elements:{result[0]}\")\n",
    "    "
   ]
  },
  {
   "cell_type": "code",
   "execution_count": null,
   "metadata": {},
   "outputs": [],
   "source": []
  }
 ],
 "metadata": {
  "kernelspec": {
   "display_name": "Python 3",
   "language": "python",
   "name": "python3"
  },
  "language_info": {
   "codemirror_mode": {
    "name": "ipython",
    "version": 3
   },
   "file_extension": ".py",
   "mimetype": "text/x-python",
   "name": "python",
   "nbconvert_exporter": "python",
   "pygments_lexer": "ipython3",
   "version": "3.8.5"
  }
 },
 "nbformat": 4,
 "nbformat_minor": 5
}
