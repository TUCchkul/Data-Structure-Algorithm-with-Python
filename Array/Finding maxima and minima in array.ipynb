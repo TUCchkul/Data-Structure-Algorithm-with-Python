{
 "cells": [
  {
   "cell_type": "code",
   "execution_count": 2,
   "id": "19435fe0",
   "metadata": {},
   "outputs": [
    {
     "name": "stdout",
     "output_type": "stream",
     "text": [
      "[1, 1]\n"
     ]
    }
   ],
   "source": [
    "l=[1,2,1]\n",
    "l.pop(1)\n",
    "print(l)"
   ]
  },
  {
   "cell_type": "code",
   "execution_count": 4,
   "id": "de569942",
   "metadata": {},
   "outputs": [
    {
     "name": "stdout",
     "output_type": "stream",
     "text": [
      "0\n"
     ]
    }
   ],
   "source": [
    "l=[]\n",
    "print(len(l))"
   ]
  },
  {
   "cell_type": "code",
   "execution_count": 5,
   "id": "18b1cbb5",
   "metadata": {},
   "outputs": [],
   "source": [
    "def min(arr):\n",
    "    if len(arr)==0:\n",
    "        minEl=-1\n",
    "    else:\n",
    "        arr.sort()#\n",
    "        minEl=arr[0]\n",
    "    return minEl\n"
   ]
  },
  {
   "cell_type": "code",
   "execution_count": 7,
   "id": "6f3e9722",
   "metadata": {},
   "outputs": [
    {
     "name": "stdout",
     "output_type": "stream",
     "text": [
      "2\n"
     ]
    }
   ],
   "source": [
    "arr=[9,6,3,2,5,4,8]\n",
    "minE=min(arr)\n",
    "print(minE)"
   ]
  },
  {
   "cell_type": "code",
   "execution_count": 3,
   "id": "a809ec1a",
   "metadata": {},
   "outputs": [
    {
     "name": "stdout",
     "output_type": "stream",
     "text": [
      "2\n",
      "9\n"
     ]
    }
   ],
   "source": [
    "import sys\n",
    "def maxE(arr):\n",
    "    if len(arr)==0:\n",
    "        maxelement=-1\n",
    "    else:\n",
    "        maxelement=-sys.maxsize\n",
    "        for i in arr:\n",
    "            if i>maxelement:\n",
    "                maxelement=i\n",
    "        return maxelement\n",
    "def minE(arr):\n",
    "    if len(arr)==0:\n",
    "        minE=-1\n",
    "    else:\n",
    "        minE=sys.maxsize\n",
    "        for i in arr:\n",
    "            if i<minE:\n",
    "                minE=i\n",
    "        return minE\n",
    "\n",
    "arr=[9,6,3,2,5,4,8]\n",
    "maxeE=maxE(arr) \n",
    "minele=minE(arr)\n",
    "print(minele)\n",
    "print(maxeE)"
   ]
  },
  {
   "cell_type": "markdown",
   "id": "660b5692",
   "metadata": {},
   "source": [
    "# Reverse an Array"
   ]
  },
  {
   "cell_type": "code",
   "execution_count": 9,
   "id": "a748a0f9",
   "metadata": {},
   "outputs": [
    {
     "data": {
      "text/plain": [
       "[6, 5, 4, 3, 2, 1]"
      ]
     },
     "execution_count": 9,
     "metadata": {},
     "output_type": "execute_result"
    }
   ],
   "source": [
    "def reverse(ip_array):\n",
    "    op_arr=[-1]*len(ip_array)\n",
    "    \n",
    "    j=0\n",
    "    for i in range(len(ip_array)-1,-1,-1):\n",
    "        op_arr[j]=ip_array[i]\n",
    "        j=j+1\n",
    "    return op_arr\n",
    "    \n",
    "ip_array=[1,2,3,4,5,6]\n",
    "reverse(ip_array)\n"
   ]
  },
  {
   "cell_type": "code",
   "execution_count": null,
   "id": "e6f18874",
   "metadata": {},
   "outputs": [],
   "source": []
  },
  {
   "cell_type": "code",
   "execution_count": null,
   "id": "c1de7746",
   "metadata": {},
   "outputs": [],
   "source": []
  }
 ],
 "metadata": {
  "kernelspec": {
   "display_name": "Python 3 (ipykernel)",
   "language": "python",
   "name": "python3"
  },
  "language_info": {
   "codemirror_mode": {
    "name": "ipython",
    "version": 3
   },
   "file_extension": ".py",
   "mimetype": "text/x-python",
   "name": "python",
   "nbconvert_exporter": "python",
   "pygments_lexer": "ipython3",
   "version": "3.7.13"
  }
 },
 "nbformat": 4,
 "nbformat_minor": 5
}
