{
 "cells": [
  {
   "cell_type": "code",
   "execution_count": 2,
   "id": "8c7c0cb3",
   "metadata": {},
   "outputs": [
    {
     "name": "stdout",
     "output_type": "stream",
     "text": [
      "[[-1, -1, -1], [-1, -1, -1], [-1, -1, -1]]\n",
      "1 4 7 \n",
      "2 5 8 \n",
      "3 6 9 \n",
      "[[1, 4, 7], [2, 5, 8], [3, 6, 9]]\n"
     ]
    }
   ],
   "source": [
    "def transpose(mat):\n",
    "    trans=[]\n",
    "    for i in range(len(mat)):\n",
    "        row=[]\n",
    "        for j in range(len(mat[0])):\n",
    "            row.append(-1)\n",
    "        trans.append(row)\n",
    "    print(trans)\n",
    "    \n",
    "    for i in range(len(mat)):\n",
    "        for j in range(len(mat[0])):\n",
    "            trans[i][j]=mat[j][i]\n",
    "            print(trans[i][j], end=\" \")\n",
    "        print()\n",
    "    return trans\n",
    "            \n",
    "mat=[\n",
    "    [1,2,3],\n",
    "    [4,5,6],\n",
    "    [7,8,9]\n",
    "]\n",
    "tr=transpose(mat)\n",
    "print(tr)"
   ]
  },
  {
   "cell_type": "code",
   "execution_count": null,
   "id": "8521501f",
   "metadata": {},
   "outputs": [],
   "source": []
  },
  {
   "cell_type": "code",
   "execution_count": null,
   "id": "9bad9247",
   "metadata": {},
   "outputs": [],
   "source": []
  }
 ],
 "metadata": {
  "kernelspec": {
   "display_name": "Python 3 (ipykernel)",
   "language": "python",
   "name": "python3"
  },
  "language_info": {
   "codemirror_mode": {
    "name": "ipython",
    "version": 3
   },
   "file_extension": ".py",
   "mimetype": "text/x-python",
   "name": "python",
   "nbconvert_exporter": "python",
   "pygments_lexer": "ipython3",
   "version": "3.7.13"
  }
 },
 "nbformat": 4,
 "nbformat_minor": 5
}
