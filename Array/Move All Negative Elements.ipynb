{
 "cells": [
  {
   "cell_type": "code",
   "execution_count": 1,
   "id": "4b1d8e91",
   "metadata": {},
   "outputs": [],
   "source": [
    "def SegregateNegativeElement(arr):\n",
    "    i=0\n",
    "    alpha=[]\n",
    "    while i<len(arr):\n",
    "        if arr[i]<0:\n",
    "            alpha.append(arr[i])\n",
    "            arr.pop(i)\n",
    "        else:\n",
    "            i+=1\n",
    "    for i in alpha:\n",
    "        arr.append(i)"
   ]
  },
  {
   "cell_type": "code",
   "execution_count": 3,
   "id": "18288737",
   "metadata": {},
   "outputs": [
    {
     "name": "stdout",
     "output_type": "stream",
     "text": [
      "[0, 1, 2, 3, 4, 8, 9, 10, -5, -6, -7]\n"
     ]
    }
   ],
   "source": [
    "arr=[-5,0,1,2,3,4,-6,-7,8,9,10]\n",
    "SegregateNegativeElement(arr)\n",
    "print(arr)"
   ]
  },
  {
   "cell_type": "code",
   "execution_count": 5,
   "id": "5d4c4d07",
   "metadata": {},
   "outputs": [
    {
     "name": "stdout",
     "output_type": "stream",
     "text": [
      "[10, 0, 1, 2, 3, 4, 9, 8, -7, -6, -5]\n"
     ]
    }
   ],
   "source": [
    "def SegregateNegativeElement2(arr):\n",
    "    i=0\n",
    "    j=len(arr)-1\n",
    "    while i<j:\n",
    "        if arr[i]<0:\n",
    "            arr[i],arr[j]=arr[j],arr[i]\n",
    "            j=j-1\n",
    "        else:\n",
    "            i=i+1\n",
    "arr=[-5,0,1,2,3,4,-6,-7,8,9,10]\n",
    "SegregateNegativeElement2(arr)\n",
    "print(arr)\n",
    "        "
   ]
  },
  {
   "cell_type": "code",
   "execution_count": null,
   "id": "02699de1",
   "metadata": {},
   "outputs": [],
   "source": []
  }
 ],
 "metadata": {
  "kernelspec": {
   "display_name": "Python 3 (ipykernel)",
   "language": "python",
   "name": "python3"
  },
  "language_info": {
   "codemirror_mode": {
    "name": "ipython",
    "version": 3
   },
   "file_extension": ".py",
   "mimetype": "text/x-python",
   "name": "python",
   "nbconvert_exporter": "python",
   "pygments_lexer": "ipython3",
   "version": "3.7.13"
  }
 },
 "nbformat": 4,
 "nbformat_minor": 5
}
