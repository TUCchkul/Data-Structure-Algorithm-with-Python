{
 "cells": [
  {
   "cell_type": "code",
   "execution_count": 1,
   "metadata": {},
   "outputs": [
    {
     "name": "stdout",
     "output_type": "stream",
     "text": [
      "[0, 0, 0, 0, 0, 1, 1, 1, 11]\n"
     ]
    }
   ],
   "source": [
    "def segregare0And1(arr):\n",
    "    arr.sort()\n",
    "arr=[1,0,1,0,0,1,1,0,0,1]\n",
    "segregare0And1(arr)\n",
    "print(arr)"
   ]
  },
  {
   "cell_type": "code",
   "execution_count": 4,
   "metadata": {},
   "outputs": [
    {
     "name": "stdout",
     "output_type": "stream",
     "text": [
      "[0, 0, 0, 0, 0, 1, 1, 1, 1, 1]\n"
     ]
    }
   ],
   "source": [
    "# Optimize way\n",
    "def Segregate0AndOne(arr):\n",
    "    count=0\n",
    "    for i in arr:\n",
    "        if i==0:\n",
    "            count=count+1\n",
    "    for i in range(count):\n",
    "        arr[i]=0\n",
    "    for i in range(count,len(arr)):\n",
    "        arr[i]=1\n",
    "arr=[1,0,1,0,0,1,1,0,0,1]\n",
    "Segregate0AndOne(arr)\n",
    "print(arr)      \n",
    "    "
   ]
  },
  {
   "cell_type": "code",
   "execution_count": 5,
   "metadata": {},
   "outputs": [
    {
     "name": "stdout",
     "output_type": "stream",
     "text": [
      "[0, 0, 0, 0, 0, 1, 1, 1, 1, 1]\n"
     ]
    }
   ],
   "source": [
    "# Two pointer approach\n",
    "def segregate0AndOne(arr):\n",
    "    left=0\n",
    "    right=len(arr)-1\n",
    "    while left<right:\n",
    "        while arr[left]==0 and left<right:\n",
    "            left=left+1\n",
    "        while arr[right]==1 and left<right:\n",
    "            right=right-1\n",
    "        if left<right:\n",
    "            arr[left]=0\n",
    "            arr[right]=1\n",
    "            left=left+1\n",
    "            right=right+1\n",
    "arr=[1,0,1,0,0,1,1,0,0,1]\n",
    "segregate0AndOne(arr)\n",
    "print(arr)   "
   ]
  },
  {
   "cell_type": "code",
   "execution_count": null,
   "metadata": {},
   "outputs": [],
   "source": [
    "def seg0And0ne(arr):\n",
    "    left=0\n",
    "    right=len(arr)-1\n",
    "    while left<right:\n",
    "        if arr[left]==1:\n",
    "            arr[left],arr[right]=arr[left],arr[right]\n",
    "        "
   ]
  }
 ],
 "metadata": {
  "kernelspec": {
   "display_name": "Python 3",
   "language": "python",
   "name": "python3"
  },
  "language_info": {
   "codemirror_mode": {
    "name": "ipython",
    "version": 3
   },
   "file_extension": ".py",
   "mimetype": "text/x-python",
   "name": "python",
   "nbconvert_exporter": "python",
   "pygments_lexer": "ipython3",
   "version": "3.8.5"
  }
 },
 "nbformat": 4,
 "nbformat_minor": 4
}
