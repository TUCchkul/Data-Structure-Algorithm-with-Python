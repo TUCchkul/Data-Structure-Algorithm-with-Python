{
 "cells": [
  {
   "cell_type": "code",
   "execution_count": 7,
   "metadata": {},
   "outputs": [
    {
     "name": "stdout",
     "output_type": "stream",
     "text": [
      "1\n",
      "9\n"
     ]
    }
   ],
   "source": [
    "# Time Complexity o(nlogn)\n",
    "def MinElement_In_An_Array(arr):\n",
    "    if len(arr)==0:\n",
    "        minEl=-1\n",
    "    else:\n",
    "        arr.sort()\n",
    "        minEl=arr[0]\n",
    "    return minEl\n",
    "def MaxElement_In_An_Array(arr):\n",
    "    if len(arr)==0:\n",
    "        maxEl=-1\n",
    "    else:\n",
    "        arr.sort(reverse=True)\n",
    "        maxEl=arr[0]\n",
    "    return maxEl\n",
    "\n",
    "arr=[9,6,1,2,5,4,8]\n",
    "minEle=MinElement_In_An_Array(arr)\n",
    "print(minEle)\n",
    "maxEle=MaxElement_In_An_Array(arr)\n",
    "print(maxEle)"
   ]
  },
  {
   "cell_type": "code",
   "execution_count": 8,
   "metadata": {},
   "outputs": [
    {
     "name": "stdout",
     "output_type": "stream",
     "text": [
      "1\n",
      "9\n"
     ]
    }
   ],
   "source": [
    "# With optimize Approach\n",
    "# Time Complexity o(n)\n",
    "import sys\n",
    "def MinE(arr):\n",
    "    if len(arr)==0:\n",
    "        minE=-1\n",
    "    else:\n",
    "        minE=sys.maxsize\n",
    "        for i in arr:\n",
    "            if i<minE:\n",
    "                minE=i\n",
    "        return minE\n",
    "def MaxE(arr):\n",
    "    if len(arr)==0:\n",
    "        maxE=-1\n",
    "    else:\n",
    "        maxE=-sys.maxsize\n",
    "        for i in arr:\n",
    "            if i>maxE:\n",
    "                maxE=i\n",
    "        return maxE\n",
    "arr=[9,6,1,2,5,4,8]\n",
    "minEle=MinE(arr)\n",
    "print(minEle)\n",
    "maxEle=MaxE(arr)\n",
    "print(maxEle)"
   ]
  },
  {
   "cell_type": "code",
   "execution_count": null,
   "metadata": {},
   "outputs": [],
   "source": []
  }
 ],
 "metadata": {
  "kernelspec": {
   "display_name": "Python 3",
   "language": "python",
   "name": "python3"
  },
  "language_info": {
   "codemirror_mode": {
    "name": "ipython",
    "version": 3
   },
   "file_extension": ".py",
   "mimetype": "text/x-python",
   "name": "python",
   "nbconvert_exporter": "python",
   "pygments_lexer": "ipython3",
   "version": "3.8.5"
  }
 },
 "nbformat": 4,
 "nbformat_minor": 4
}
