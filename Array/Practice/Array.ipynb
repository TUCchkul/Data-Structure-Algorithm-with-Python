{
 "cells": [
  {
   "cell_type": "markdown",
   "metadata": {},
   "source": [
    "# Array\n",
    " 1. An array is a collection of items(1,2,3,4 each of them is an items) stored in Contigious memory locations."
   ]
  },
  {
   "cell_type": "markdown",
   "metadata": {},
   "source": [
    "# list\n",
    " -:  list has same properties like an array\n",
    "- Properties of list\n",
    "1. In case of C/C++ Java array can store only homogenious but in python we can store in any type.\n",
    "2. Dynamic memory locations\n",
    "3. Declaration: l=list(),l=[], l=[1,2,3,4,5,6]\n",
    "4. Indexing: Suppose we have an array [5,6,7,8,9], Indexing start from 0 and goes till n-1"
   ]
  },
  {
   "cell_type": "code",
   "execution_count": null,
   "metadata": {},
   "outputs": [],
   "source": []
  }
 ],
 "metadata": {
  "kernelspec": {
   "display_name": "Python 3",
   "language": "python",
   "name": "python3"
  },
  "language_info": {
   "codemirror_mode": {
    "name": "ipython",
    "version": 3
   },
   "file_extension": ".py",
   "mimetype": "text/x-python",
   "name": "python",
   "nbconvert_exporter": "python",
   "pygments_lexer": "ipython3",
   "version": "3.8.5"
  }
 },
 "nbformat": 4,
 "nbformat_minor": 4
}
