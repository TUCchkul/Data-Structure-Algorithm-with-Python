{
 "cells": [
  {
   "cell_type": "code",
   "execution_count": 2,
   "id": "a8ae533a",
   "metadata": {},
   "outputs": [
    {
     "name": "stdout",
     "output_type": "stream",
     "text": [
      "[0, 0, 0, 1, 1, 1, 1, 2, 2]\n"
     ]
    }
   ],
   "source": [
    "def sort012(arr):\n",
    "    arr.sort()\n",
    "arr=[1,1,2,2,1,0,1,0,0]\n",
    "sort012(arr)\n",
    "print(arr)"
   ]
  },
  {
   "cell_type": "code",
   "execution_count": 3,
   "id": "1a71d852",
   "metadata": {},
   "outputs": [
    {
     "name": "stdout",
     "output_type": "stream",
     "text": [
      "[0, 0, 0, 1, 1, 1, 1, 2, 2]\n"
     ]
    }
   ],
   "source": [
    "def sortZeroOneTwo(arr):\n",
    "    count0=0\n",
    "    count1=0\n",
    "    for i in arr:\n",
    "        if i==0:\n",
    "            count0=count0+1\n",
    "        elif i==1:\n",
    "            count1=count1+1\n",
    "    for i in range(count0):\n",
    "        arr[i]=0\n",
    "    for i in range(count0,count0+count1):\n",
    "        arr[i]=1\n",
    "    for i in range(count0+count1, len(arr)):\n",
    "        arr[i]=2\n",
    "    \n",
    "arr=[1,1,2,2,1,0,1,0,0]\n",
    "sortZeroOneTwo(arr)\n",
    "print(arr)"
   ]
  },
  {
   "cell_type": "code",
   "execution_count": 5,
   "id": "5237a7e3",
   "metadata": {},
   "outputs": [
    {
     "name": "stdout",
     "output_type": "stream",
     "text": [
      "[0, 0, 0, 1, 1, 1, 1, 2, 2]\n"
     ]
    }
   ],
   "source": [
    "def sortZeroto2(arr):\n",
    "    low=0\n",
    "    mid=0\n",
    "    high=len(arr)-1\n",
    "    while mid<=high:\n",
    "        if arr[mid]==0:\n",
    "            arr[low],arr[mid]=arr[mid],arr[low]\n",
    "            low=low+1\n",
    "            mid=mid+1\n",
    "        elif arr[mid]==1:\n",
    "            mid=mid+1\n",
    "        else:\n",
    "            arr[mid],arr[high]=arr[high],arr[mid]\n",
    "            high=high-1\n",
    "    return arr\n",
    "        \n",
    "arr=[1,1,2,2,1,0,1,0,0]\n",
    "sortZeroto2(arr)\n",
    "print(arr)"
   ]
  },
  {
   "cell_type": "code",
   "execution_count": null,
   "id": "a5fc0e84",
   "metadata": {},
   "outputs": [],
   "source": []
  }
 ],
 "metadata": {
  "kernelspec": {
   "display_name": "Python 3 (ipykernel)",
   "language": "python",
   "name": "python3"
  },
  "language_info": {
   "codemirror_mode": {
    "name": "ipython",
    "version": 3
   },
   "file_extension": ".py",
   "mimetype": "text/x-python",
   "name": "python",
   "nbconvert_exporter": "python",
   "pygments_lexer": "ipython3",
   "version": "3.7.13"
  }
 },
 "nbformat": 4,
 "nbformat_minor": 5
}
