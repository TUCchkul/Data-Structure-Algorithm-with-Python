{
 "cells": [
  {
   "cell_type": "code",
   "execution_count": 4,
   "id": "a9c81da8",
   "metadata": {},
   "outputs": [
    {
     "name": "stdout",
     "output_type": "stream",
     "text": [
      "[1, 7, 5, 2, 9]\n"
     ]
    }
   ],
   "source": [
    "def removeDuplicate(arr):\n",
    "    ins={}\n",
    "    i=0\n",
    "    while i<len(arr):\n",
    "        if arr[i] in ins:\n",
    "            arr.pop(i)\n",
    "        else:\n",
    "            ins[arr[i]]=1\n",
    "            i=i+1\n",
    "ip_array=[1,7,7,5,2,2,9]\n",
    "removeDuplicate(ip_array)\n",
    "print(ip_array)"
   ]
  },
  {
   "cell_type": "code",
   "execution_count": null,
   "id": "1af239bc",
   "metadata": {},
   "outputs": [],
   "source": []
  },
  {
   "cell_type": "code",
   "execution_count": null,
   "id": "2de69cc8",
   "metadata": {},
   "outputs": [],
   "source": []
  }
 ],
 "metadata": {
  "kernelspec": {
   "display_name": "Python 3 (ipykernel)",
   "language": "python",
   "name": "python3"
  },
  "language_info": {
   "codemirror_mode": {
    "name": "ipython",
    "version": 3
   },
   "file_extension": ".py",
   "mimetype": "text/x-python",
   "name": "python",
   "nbconvert_exporter": "python",
   "pygments_lexer": "ipython3",
   "version": "3.7.13"
  }
 },
 "nbformat": 4,
 "nbformat_minor": 5
}
