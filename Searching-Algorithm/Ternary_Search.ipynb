{
 "cells": [
  {
   "cell_type": "code",
   "execution_count": 3,
   "id": "3f4759b9",
   "metadata": {},
   "outputs": [
    {
     "name": "stdout",
     "output_type": "stream",
     "text": [
      "2\n"
     ]
    }
   ],
   "source": [
    "def ternary_Search(arr, ele, start, end):\n",
    "    ind=-1\n",
    "    while start<=end:\n",
    "        m1=(2*start+end)//3\n",
    "        m2=(start+end*2)//3\n",
    "        if ele==arr[m1]:\n",
    "            ind=m1\n",
    "            break\n",
    "        elif ele==arr[m2]:\n",
    "            ind=m2\n",
    "            break\n",
    "        elif ele<arr[m1]:\n",
    "            end=m1-1\n",
    "        elif ele>arr[m2]:\n",
    "            start=m2+1\n",
    "        else:\n",
    "            start=m1+1\n",
    "            end=m2-1\n",
    "    return ind\n",
    "            \n",
    "        \n",
    "arr=[1,2,5,9,14]\n",
    "ele=5\n",
    "start=0\n",
    "end=len(arr)-1\n",
    "index=ternary_Search(arr,ele, start, end)\n",
    "print(index)"
   ]
  },
  {
   "cell_type": "code",
   "execution_count": null,
   "id": "a8934ba8",
   "metadata": {},
   "outputs": [],
   "source": []
  }
 ],
 "metadata": {
  "kernelspec": {
   "display_name": "Python 3 (ipykernel)",
   "language": "python",
   "name": "python3"
  },
  "language_info": {
   "codemirror_mode": {
    "name": "ipython",
    "version": 3
   },
   "file_extension": ".py",
   "mimetype": "text/x-python",
   "name": "python",
   "nbconvert_exporter": "python",
   "pygments_lexer": "ipython3",
   "version": "3.7.13"
  }
 },
 "nbformat": 4,
 "nbformat_minor": 5
}
