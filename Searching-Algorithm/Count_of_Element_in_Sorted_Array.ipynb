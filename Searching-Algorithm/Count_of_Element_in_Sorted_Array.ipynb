{
 "cells": [
  {
   "cell_type": "code",
   "execution_count": 1,
   "id": "fa7490b1",
   "metadata": {},
   "outputs": [
    {
     "name": "stdout",
     "output_type": "stream",
     "text": [
      "3\n",
      "5\n",
      "3\n"
     ]
    }
   ],
   "source": [
    "def first_occurrence(arr, ele, start, end):\n",
    "    ind=-1\n",
    "    while start<=end:\n",
    "        mid=start+(end-start)//2\n",
    "        if ele==arr[mid]:\n",
    "            ind=mid\n",
    "            end=mid-1\n",
    "        elif ele<arr[mid]:\n",
    "            end=mid-1\n",
    "        else:\n",
    "            start=mid+1\n",
    "    return ind\n",
    "def last_occurrence(arr, ele, start, end):\n",
    "    ind=-1\n",
    "    while start<=end:\n",
    "        mid=start+(end-start)//2\n",
    "        if ele==arr[mid]:\n",
    "            ind=mid\n",
    "            start=mid+1\n",
    "        elif ele<arr[mid]:\n",
    "            end=mid-1\n",
    "        else:\n",
    "            start=mid+1\n",
    "    return ind\n",
    "    \n",
    "arr=[0,1,1,5,5,5,7,7,7,7]\n",
    "start=0\n",
    "ele=5\n",
    "end=len(arr)-1\n",
    "index=first_occurrence(arr, ele, start, end)\n",
    "print(index)\n",
    "last_occ=last_occurrence(arr, ele, start, end)\n",
    "print(last_occ)\n",
    "count=last_occ-index +1\n",
    "print(count)"
   ]
  },
  {
   "cell_type": "code",
   "execution_count": null,
   "id": "ecb89daa",
   "metadata": {},
   "outputs": [],
   "source": []
  }
 ],
 "metadata": {
  "kernelspec": {
   "display_name": "Python 3 (ipykernel)",
   "language": "python",
   "name": "python3"
  },
  "language_info": {
   "codemirror_mode": {
    "name": "ipython",
    "version": 3
   },
   "file_extension": ".py",
   "mimetype": "text/x-python",
   "name": "python",
   "nbconvert_exporter": "python",
   "pygments_lexer": "ipython3",
   "version": "3.7.13"
  }
 },
 "nbformat": 4,
 "nbformat_minor": 5
}
