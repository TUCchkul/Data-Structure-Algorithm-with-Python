{
 "cells": [
  {
   "cell_type": "code",
   "execution_count": 2,
   "metadata": {},
   "outputs": [
    {
     "name": "stdout",
     "output_type": "stream",
     "text": [
      "6\n"
     ]
    }
   ],
   "source": [
    "def firstOccurence(arr, ele, start,end):\n",
    "    ind=-1\n",
    "    while start<=end:\n",
    "        mid=(start+end)//2\n",
    "        if ele==arr[mid]:\n",
    "            ind=mid\n",
    "            end=mid-1\n",
    "        elif ele<arr[mid]:\n",
    "            end=mid-1\n",
    "        else:\n",
    "            start=mid+1\n",
    "    return ind\n",
    "def SearchingOneInInfiniteSortedArray(arr, ele):\n",
    "    start=0\n",
    "    end=1\n",
    "    while ele>arr[end]:\n",
    "        start=end\n",
    "        end=end*2\n",
    "    ind=firstOccurence(arr, ele, start,end)\n",
    "    return ind\n",
    "arr=[0,0,0,0,0,0,1,1,1,1,1,1,1,1,1]\n",
    "ele=1\n",
    "index=SearchingOneInInfiniteSortedArray(arr,ele)\n",
    "print(index)"
   ]
  },
  {
   "cell_type": "code",
   "execution_count": null,
   "metadata": {},
   "outputs": [],
   "source": []
  }
 ],
 "metadata": {
  "kernelspec": {
   "display_name": "Python 3",
   "language": "python",
   "name": "python3"
  },
  "language_info": {
   "codemirror_mode": {
    "name": "ipython",
    "version": 3
   },
   "file_extension": ".py",
   "mimetype": "text/x-python",
   "name": "python",
   "nbconvert_exporter": "python",
   "pygments_lexer": "ipython3",
   "version": "3.8.5"
  }
 },
 "nbformat": 4,
 "nbformat_minor": 4
}
