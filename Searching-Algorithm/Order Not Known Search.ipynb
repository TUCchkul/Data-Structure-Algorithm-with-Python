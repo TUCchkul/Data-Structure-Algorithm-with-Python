{
 "cells": [
  {
   "cell_type": "code",
   "execution_count": 8,
   "id": "801d70a5",
   "metadata": {},
   "outputs": [
    {
     "name": "stdout",
     "output_type": "stream",
     "text": [
      "2\n"
     ]
    }
   ],
   "source": [
    "def Binary_Search(arr, ele, start,end):\n",
    "    ind=-1\n",
    "    while start<=end:\n",
    "        mid=start+(end-start)//2\n",
    "        if arr[mid]==ele:\n",
    "            ind=mid\n",
    "            break\n",
    "        elif ele<arr[mid]:\n",
    "            end=mid-1\n",
    "        else:\n",
    "            start=mid+1\n",
    "    return ind\n",
    "def BinarySearcDescending(arr,ele,start,end):\n",
    "    ind=-1\n",
    "    while start<=end:\n",
    "        mid=start+ (end-start)//2\n",
    "        if arr[mid]==ele:\n",
    "            ind=ele\n",
    "            break\n",
    "        elif ele>arr[mid]:\n",
    "            end=mid-1\n",
    "        else:\n",
    "            start=mid+1\n",
    "    return ind\n",
    "def BinarySearcAscending(arr,ele,start,end):    \n",
    "    ind=-1\n",
    "    while start<=end:\n",
    "        mid=start+(end-start)//2\n",
    "        if arr[mid]==ele:\n",
    "            ind=mid\n",
    "            break\n",
    "        elif ele<arr[mid]:\n",
    "            end=end-1\n",
    "        else:\n",
    "            start=mid+1\n",
    "    return ind\n",
    "    \n",
    "def BinarySearch(arr, ele, start,end):\n",
    "    if len(arr)==1:\n",
    "        if ele==arr[0]:\n",
    "            return 0\n",
    "        return -1\n",
    "    elif arr[0]<arr[-1]:\n",
    "        return BinarySearcAscending(arr,ele,start,end)\n",
    "    else:\n",
    "        return BinarySearcDescending(arr,ele,start,end)\n",
    "    \n",
    "        \n",
    "arr=[1,2,3,4]\n",
    "ele=3\n",
    "start=0\n",
    "end=len(arr)-1\n",
    "index=BinarySearch(arr, ele, start,end)\n",
    "print(index)\n"
   ]
  },
  {
   "cell_type": "code",
   "execution_count": null,
   "id": "f3fc02a9",
   "metadata": {},
   "outputs": [],
   "source": []
  }
 ],
 "metadata": {
  "kernelspec": {
   "display_name": "Python 3 (ipykernel)",
   "language": "python",
   "name": "python3"
  },
  "language_info": {
   "codemirror_mode": {
    "name": "ipython",
    "version": 3
   },
   "file_extension": ".py",
   "mimetype": "text/x-python",
   "name": "python",
   "nbconvert_exporter": "python",
   "pygments_lexer": "ipython3",
   "version": "3.7.13"
  }
 },
 "nbformat": 4,
 "nbformat_minor": 5
}
