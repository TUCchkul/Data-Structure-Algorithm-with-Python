{
 "cells": [
  {
   "cell_type": "code",
   "execution_count": 1,
   "id": "fa3f9cf2",
   "metadata": {},
   "outputs": [
    {
     "name": "stdout",
     "output_type": "stream",
     "text": [
      "2\n"
     ]
    }
   ],
   "source": [
    "def Binary_Search(arr, ele, start,end):\n",
    "    ind=-1\n",
    "    while start<=end:\n",
    "        mid=start+(end-start)//2\n",
    "        if arr[mid]==ele:\n",
    "            ind=mid\n",
    "            break\n",
    "        elif ele<arr[mid]:\n",
    "            end=mid-1\n",
    "        else:\n",
    "            start=mid+1\n",
    "    return ind\n",
    "def BinarySearcDescending(arr,ele,start,end):\n",
    "    ind=-1\n",
    "    while start<=end:\n",
    "        mid=start+ (end-start)//2\n",
    "        if arr[mid]==ele:\n",
    "            ind=ele\n",
    "            break\n",
    "        elif ele>arr[mid]:\n",
    "            end=mid-1\n",
    "        else:\n",
    "            start=mid+1\n",
    "    return ind\n",
    "            \n",
    "        \n",
    "arr=[1,2,5,6,9,14]\n",
    "ele=5\n",
    "start=0\n",
    "end=len(arr)-1\n",
    "index=Binary_Search(arr, ele, start,end)\n",
    "print(index)\n"
   ]
  },
  {
   "cell_type": "code",
   "execution_count": null,
   "id": "698f9abd",
   "metadata": {},
   "outputs": [],
   "source": []
  }
 ],
 "metadata": {
  "kernelspec": {
   "display_name": "Python 3 (ipykernel)",
   "language": "python",
   "name": "python3"
  },
  "language_info": {
   "codemirror_mode": {
    "name": "ipython",
    "version": 3
   },
   "file_extension": ".py",
   "mimetype": "text/x-python",
   "name": "python",
   "nbconvert_exporter": "python",
   "pygments_lexer": "ipython3",
   "version": "3.7.13"
  }
 },
 "nbformat": 4,
 "nbformat_minor": 5
}
