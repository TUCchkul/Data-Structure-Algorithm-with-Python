{
 "cells": [
  {
   "cell_type": "code",
   "execution_count": 3,
   "metadata": {},
   "outputs": [
    {
     "name": "stdout",
     "output_type": "stream",
     "text": [
      "h\n"
     ]
    }
   ],
   "source": [
    "def nextalphabeticalElement(string, key, start, end):\n",
    "    res=-1\n",
    "    while start<=end:\n",
    "        mid=(start+end)//2\n",
    "        if key==string[mid]:\n",
    "            start=mid+1\n",
    "        elif key<string[mid]:\n",
    "            res=string[mid]\n",
    "            end=mid-1\n",
    "        elif key>string[mid]:\n",
    "            start=mid+1\n",
    "    return res\n",
    "string=\"abchjo\"\n",
    "start=0\n",
    "end=len(string)-1\n",
    "key=\"c\"\n",
    "nextAlpha=nextalphabeticalElement(string, key, start, end)\n",
    "print(nextAlpha)"
   ]
  },
  {
   "cell_type": "code",
   "execution_count": null,
   "metadata": {},
   "outputs": [],
   "source": []
  }
 ],
 "metadata": {
  "kernelspec": {
   "display_name": "Python 3",
   "language": "python",
   "name": "python3"
  },
  "language_info": {
   "codemirror_mode": {
    "name": "ipython",
    "version": 3
   },
   "file_extension": ".py",
   "mimetype": "text/x-python",
   "name": "python",
   "nbconvert_exporter": "python",
   "pygments_lexer": "ipython3",
   "version": "3.8.5"
  }
 },
 "nbformat": 4,
 "nbformat_minor": 4
}
