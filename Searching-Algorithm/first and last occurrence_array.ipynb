{
 "cells": [
  {
   "cell_type": "code",
   "execution_count": null,
   "metadata": {},
   "outputs": [],
   "source": [
    "# Array must be sorted form"
   ]
  },
  {
   "cell_type": "code",
   "execution_count": 1,
   "metadata": {},
   "outputs": [
    {
     "name": "stdout",
     "output_type": "stream",
     "text": [
      "3\n",
      "5\n"
     ]
    }
   ],
   "source": [
    "def first_occurrence(arr, ele, start, end):\n",
    "    ind=-1\n",
    "    \n",
    "    while start<=end:\n",
    "        mid=start + (end-start)//2\n",
    "        if ele==arr[mid]:\n",
    "            ind=mid\n",
    "            end=mid-1\n",
    "        elif ele<arr[mid]:\n",
    "            end=end-1\n",
    "        else:\n",
    "            start=mid+1\n",
    "    return ind\n",
    "def last_occurrence(arr, ele, start, end):\n",
    "    ind=-1\n",
    "    while start<=end:\n",
    "        mid=start+(end-start)//2\n",
    "        if ele==arr[mid]:\n",
    "            ind=mid\n",
    "            start=mid+1\n",
    "        elif ele<arr[mid]:\n",
    "            end=mid-1\n",
    "        else:\n",
    "            start=mid+1\n",
    "    return ind\n",
    "            \n",
    "        \n",
    "        \n",
    "arr=[0,1,1,5,5,5,7,7,7,7]\n",
    "start=0\n",
    "ele=5\n",
    "end=len(arr)-1\n",
    "index=first_occurrence(arr, ele, start, end)\n",
    "print(index)\n",
    "last_occ=last_occurrence(arr, ele, start, end)\n",
    "print(last_occ)"
   ]
  },
  {
   "cell_type": "code",
   "execution_count": null,
   "metadata": {},
   "outputs": [],
   "source": []
  }
 ],
 "metadata": {
  "kernelspec": {
   "display_name": "Python 3",
   "language": "python",
   "name": "python3"
  },
  "language_info": {
   "codemirror_mode": {
    "name": "ipython",
    "version": 3
   },
   "file_extension": ".py",
   "mimetype": "text/x-python",
   "name": "python",
   "nbconvert_exporter": "python",
   "pygments_lexer": "ipython3",
   "version": "3.8.5"
  }
 },
 "nbformat": 4,
 "nbformat_minor": 5
}
