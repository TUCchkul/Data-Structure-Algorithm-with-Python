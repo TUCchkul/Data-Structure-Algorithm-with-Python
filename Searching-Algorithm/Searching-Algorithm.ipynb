{
 "cells": [
  {
   "cell_type": "markdown",
   "id": "8daacbdb",
   "metadata": {},
   "source": [
    "### Searching Agorithm\n",
    " Given any data structure like array, the main task is to check for an elementor retrive and element from that data structure where it is stored is done by Searcing Algorithm\n",
    " Two types of Searchon Algorithms:\n",
    " 1. Sequential Search: In this array is traveresd sequentially and every elements ic checked. For example:Linear Search\n",
    " 2. Interval Search: Such type of searching algorithms divide the search space in half and this quite more efficient as compared to sequential searcing algorithms. Its basically work under the divide and conquer strategy. For example:Binary Search"
   ]
  },
  {
   "cell_type": "code",
   "execution_count": null,
   "id": "37aeb39d",
   "metadata": {},
   "outputs": [],
   "source": []
  }
 ],
 "metadata": {
  "kernelspec": {
   "display_name": "Python 3 (ipykernel)",
   "language": "python",
   "name": "python3"
  },
  "language_info": {
   "codemirror_mode": {
    "name": "ipython",
    "version": 3
   },
   "file_extension": ".py",
   "mimetype": "text/x-python",
   "name": "python",
   "nbconvert_exporter": "python",
   "pygments_lexer": "ipython3",
   "version": "3.7.0"
  }
 },
 "nbformat": 4,
 "nbformat_minor": 5
}
