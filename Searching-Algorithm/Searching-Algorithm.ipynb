{
 "cells": [
  {
   "cell_type": "markdown",
   "id": "67cef3e9",
   "metadata": {},
   "source": [
    "### Searching Agorithm\n",
    " Given any data structure like array, the main task is to check for an elementor retrive and element from that data structure where it is stored is done by Searcing Algorithm\n",
    " Two types of Searchon Algorithms:\n",
    " 1. Sequential Search: In this array is traveresd sequentially and every elements ic checked. For example:Linear Search\n",
    " 2. Interval Search: Such type of searching algorithms divide the search space in half and this quite more efficient as compared to sequential searcing algorithms. Its basically work under the divide and conquer strategy. For example:Binary Search"
   ]
  },
  {
   "cell_type": "markdown",
   "id": "fcac8b3f",
   "metadata": {},
   "source": [
    "### Linear Search"
   ]
  },
  {
   "cell_type": "code",
   "execution_count": 1,
   "id": "9e19899e",
   "metadata": {},
   "outputs": [],
   "source": [
    "def LinearSearch(arr,x,n):\n",
    "    for i in range(n):\n",
    "        if arr[i]==x:\n",
    "            return i\n",
    "    return -1 #-1 represent element is not present in the array"
   ]
  },
  {
   "cell_type": "code",
   "execution_count": 2,
   "id": "4e46dc98",
   "metadata": {},
   "outputs": [
    {
     "data": {
      "text/plain": [
       "4"
      ]
     },
     "execution_count": 2,
     "metadata": {},
     "output_type": "execute_result"
    }
   ],
   "source": [
    "#Driver code\n",
    "array=[53, 21, 90, 32, 47,89]\n",
    "x=47\n",
    "n=len(array)\n",
    "LinearSearch(array,x,n)"
   ]
  },
  {
   "cell_type": "code",
   "execution_count": null,
   "id": "8b33edea",
   "metadata": {},
   "outputs": [],
   "source": []
  }
 ],
 "metadata": {
  "kernelspec": {
   "display_name": "Python 3 (ipykernel)",
   "language": "python",
   "name": "python3"
  },
  "language_info": {
   "codemirror_mode": {
    "name": "ipython",
    "version": 3
   },
   "file_extension": ".py",
   "mimetype": "text/x-python",
   "name": "python",
   "nbconvert_exporter": "python",
   "pygments_lexer": "ipython3",
   "version": "3.7.0"
  }
 },
 "nbformat": 4,
 "nbformat_minor": 5
}
