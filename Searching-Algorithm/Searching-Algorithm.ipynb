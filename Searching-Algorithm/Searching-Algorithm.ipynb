{
 "cells": [
  {
   "cell_type": "markdown",
   "id": "f15ff231",
   "metadata": {},
   "source": [
    "### Searching Agorithm\n",
    " Given any data structure like array, the main task is to check for an elementor retrive and element from that data structure where it is stored is done by Searcing Algorithm\n",
    " Two types of Searchon Algorithms:\n",
    " 1. Sequential Search: In this array is traveresd sequentially and every elements ic checked. For example:Linear Search\n",
    " 2. Interval Search: Such type of searching algorithms divide the search space in half and this quite more efficient as compared to sequential searcing algorithms. Its basically work under the divide and conquer strategy. For example:Binary Search"
   ]
  },
  {
   "cell_type": "markdown",
   "id": "c8510476",
   "metadata": {},
   "source": [
    "### Linear Search"
   ]
  },
  {
   "cell_type": "code",
   "execution_count": 6,
   "id": "567e7064",
   "metadata": {},
   "outputs": [],
   "source": [
    "def LinearSearch(arr,x,n):\n",
    "    for i in range(1,n+1):\n",
    "        print(f\"I:{i}\\n\")\n",
    "        if arr[i]==x:\n",
    "            return i\n",
    "    return -1 #-1 represent element is not present in the array"
   ]
  },
  {
   "cell_type": "code",
   "execution_count": 7,
   "id": "bd886185",
   "metadata": {},
   "outputs": [
    {
     "name": "stdout",
     "output_type": "stream",
     "text": [
      "I:1\n",
      "\n",
      "I:2\n",
      "\n"
     ]
    },
    {
     "data": {
      "text/plain": [
       "2"
      ]
     },
     "execution_count": 7,
     "metadata": {},
     "output_type": "execute_result"
    }
   ],
   "source": [
    "#Driver code\n",
    "array=[53, 21, 90, 32, 47,89]\n",
    "x=90\n",
    "n=len(array)\n",
    "LinearSearch(array,x,n)"
   ]
  },
  {
   "cell_type": "markdown",
   "id": "f46792eb",
   "metadata": {},
   "source": [
    "### Binary Search"
   ]
  },
  {
   "cell_type": "code",
   "execution_count": null,
   "id": "bdc339b4",
   "metadata": {},
   "outputs": [],
   "source": []
  }
 ],
 "metadata": {
  "kernelspec": {
   "display_name": "Python 3 (ipykernel)",
   "language": "python",
   "name": "python3"
  },
  "language_info": {
   "codemirror_mode": {
    "name": "ipython",
    "version": 3
   },
   "file_extension": ".py",
   "mimetype": "text/x-python",
   "name": "python",
   "nbconvert_exporter": "python",
   "pygments_lexer": "ipython3",
   "version": "3.7.0"
  }
 },
 "nbformat": 4,
 "nbformat_minor": 5
}
