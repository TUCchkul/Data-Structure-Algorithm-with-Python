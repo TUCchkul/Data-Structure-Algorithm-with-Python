{
 "cells": [
  {
   "cell_type": "code",
   "execution_count": null,
   "id": "80609a17",
   "metadata": {},
   "outputs": [],
   "source": [
    "def floor(arr, ele, start, end):\n",
    "    res=-1\n",
    "    while start<=end:\n",
    "        mid=(start+end)//2\n",
    "        if ele<arr[mid]:\n",
    "            res=ele\n",
    "            break\n",
    "        elif ele<arr[mid]:\n",
    "            end=mid-1\n",
    "        elif ele>arr[mid]:\n",
    "            res=arr\n",
    "arr=[1,2,3,4,8,10,11,12]\n",
    "ele=6\n",
    "start=0\n",
    "end=len(arr)-1\n",
    "floorvalue=floor(arr, ele,start, end)"
   ]
  }
 ],
 "metadata": {
  "kernelspec": {
   "display_name": "Python 3 (ipykernel)",
   "language": "python",
   "name": "python3"
  },
  "language_info": {
   "codemirror_mode": {
    "name": "ipython",
    "version": 3
   },
   "file_extension": ".py",
   "mimetype": "text/x-python",
   "name": "python",
   "nbconvert_exporter": "python",
   "pygments_lexer": "ipython3",
   "version": "3.7.13"
  }
 },
 "nbformat": 4,
 "nbformat_minor": 5
}
