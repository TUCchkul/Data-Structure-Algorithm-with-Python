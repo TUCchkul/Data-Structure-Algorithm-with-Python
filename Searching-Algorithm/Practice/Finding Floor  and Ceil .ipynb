{
 "cells": [
  {
   "cell_type": "code",
   "execution_count": 3,
   "metadata": {},
   "outputs": [
    {
     "name": "stdout",
     "output_type": "stream",
     "text": [
      "4\n",
      "8\n"
     ]
    }
   ],
   "source": [
    "def Floor(arr, ele, start,end):\n",
    "    res=-1\n",
    "    while start<=end:\n",
    "        mid=(start+end)//2\n",
    "        if ele==arr[mid]:\n",
    "            res=arr[mid]\n",
    "            break\n",
    "        elif ele <arr[mid]:\n",
    "            end=mid-1\n",
    "        elif ele>arr[mid]:\n",
    "            res=arr[mid]\n",
    "            start=mid+1\n",
    "    return res\n",
    "def Ceil(arr,ele, start, end):\n",
    "    res=-1\n",
    "    while start<=end:\n",
    "        mid=(start+end)//2\n",
    "        if ele==arr[mid]:\n",
    "            res=arr[mid]\n",
    "            break\n",
    "        elif ele>arr[mid]:\n",
    "            start=mid+1\n",
    "        elif ele<arr[mid]:\n",
    "            res=arr[mid]\n",
    "            end=mid-1\n",
    "    return res\n",
    "arr=[1,2,3,4,8,10,11,12]\n",
    "start=0\n",
    "end=len(arr)-1\n",
    "ele=5\n",
    "floorValue=Floor(arr,ele,start,end)\n",
    "print(floorValue)\n",
    "ceilValue=Ceil(arr,ele,start,end)\n",
    "print(ceilValue)"
   ]
  },
  {
   "cell_type": "code",
   "execution_count": null,
   "metadata": {},
   "outputs": [],
   "source": []
  }
 ],
 "metadata": {
  "kernelspec": {
   "display_name": "Python 3",
   "language": "python",
   "name": "python3"
  },
  "language_info": {
   "codemirror_mode": {
    "name": "ipython",
    "version": 3
   },
   "file_extension": ".py",
   "mimetype": "text/x-python",
   "name": "python",
   "nbconvert_exporter": "python",
   "pygments_lexer": "ipython3",
   "version": "3.8.5"
  }
 },
 "nbformat": 4,
 "nbformat_minor": 4
}
