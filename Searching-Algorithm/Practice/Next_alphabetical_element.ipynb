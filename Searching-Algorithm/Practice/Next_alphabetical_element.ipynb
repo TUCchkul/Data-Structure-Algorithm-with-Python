{
 "cells": [
  {
   "cell_type": "code",
   "execution_count": null,
   "metadata": {},
   "outputs": [],
   "source": [
    "def nextAlphaBeticalElement(string, ley, start,end):\n",
    "    \n",
    "string=\"abchjoqt\"\n",
    "key='d'\n",
    "start=0\n",
    "end=len(string)-1\n",
    "nextAlpha=nextAlphaBeticalElement(string, ley, start,end)"
   ]
  }
 ],
 "metadata": {
  "kernelspec": {
   "display_name": "Python 3",
   "language": "python",
   "name": "python3"
  },
  "language_info": {
   "codemirror_mode": {
    "name": "ipython",
    "version": 3
   },
   "file_extension": ".py",
   "mimetype": "text/x-python",
   "name": "python",
   "nbconvert_exporter": "python",
   "pygments_lexer": "ipython3",
   "version": "3.8.5"
  }
 },
 "nbformat": 4,
 "nbformat_minor": 4
}
