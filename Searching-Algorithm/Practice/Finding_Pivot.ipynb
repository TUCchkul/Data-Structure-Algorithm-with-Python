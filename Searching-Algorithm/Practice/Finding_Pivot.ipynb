{
 "cells": [
  {
   "cell_type": "code",
   "execution_count": 4,
   "metadata": {},
   "outputs": [
    {
     "name": "stdout",
     "output_type": "stream",
     "text": [
      "5\n"
     ]
    }
   ],
   "source": [
    "def Pivot(arr, start, end):\n",
    "    n=len(arr)\n",
    "    res=-1\n",
    "    while start<=end:\n",
    "        mid=(start+end)//2\n",
    "        prev=(mid+n-1)%n\n",
    "        next=(mid+1)%n\n",
    "        if arr[mid]<=arr[next] and arr[mid]<=arr[prev]:\n",
    "            res=mid\n",
    "            break\n",
    "        elif arr[start]<arr[mid]:\n",
    "            start=mid+1\n",
    "        elif arr[end]>arr[mid]:\n",
    "            end=mid-1\n",
    "    return res\n",
    "arr=[8,11,12,15,18,2,5,6]\n",
    "start=0\n",
    "end=len(arr)-1\n",
    "pivotIndex=Pivot(arr, start,end)\n",
    "print(pivotIndex)"
   ]
  },
  {
   "cell_type": "code",
   "execution_count": 1,
   "metadata": {},
   "outputs": [
    {
     "data": {
      "text/plain": [
       "3"
      ]
     },
     "execution_count": 1,
     "metadata": {},
     "output_type": "execute_result"
    }
   ],
   "source": [
    "11%8"
   ]
  },
  {
   "cell_type": "code",
   "execution_count": 5,
   "metadata": {},
   "outputs": [
    {
     "data": {
      "text/plain": [
       "4"
      ]
     },
     "execution_count": 5,
     "metadata": {},
     "output_type": "execute_result"
    }
   ],
   "source": [
    "4%8"
   ]
  },
  {
   "cell_type": "code",
   "execution_count": null,
   "metadata": {},
   "outputs": [],
   "source": []
  }
 ],
 "metadata": {
  "kernelspec": {
   "display_name": "Python 3",
   "language": "python",
   "name": "python3"
  },
  "language_info": {
   "codemirror_mode": {
    "name": "ipython",
    "version": 3
   },
   "file_extension": ".py",
   "mimetype": "text/x-python",
   "name": "python",
   "nbconvert_exporter": "python",
   "pygments_lexer": "ipython3",
   "version": "3.8.5"
  }
 },
 "nbformat": 4,
 "nbformat_minor": 4
}
