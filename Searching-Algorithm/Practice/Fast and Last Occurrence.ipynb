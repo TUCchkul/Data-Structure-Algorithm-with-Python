{
 "cells": [
  {
   "cell_type": "code",
   "execution_count": 3,
   "metadata": {},
   "outputs": [
    {
     "name": "stdout",
     "output_type": "stream",
     "text": [
      "3\n",
      "5\n"
     ]
    }
   ],
   "source": [
    "def FirstOccurrence(arr,ele,start,end):\n",
    "    ind=-1\n",
    "    while start<=end:\n",
    "        mid=(start+end)//2\n",
    "        if ele==arr[mid]:\n",
    "            ind=mid\n",
    "            end=mid-1\n",
    "        elif ele<arr[mid]:\n",
    "            end=mid-1\n",
    "        else:\n",
    "            start=mid+1\n",
    "    return ind\n",
    "def lastOccurrence(arr,ele,start,end):\n",
    "    ind=-1\n",
    "    while start<=end:\n",
    "        mid=(start+end)//2\n",
    "        if ele==arr[mid]:\n",
    "            ind=mid\n",
    "            start=mid+1\n",
    "        elif ele<arr[mid]:\n",
    "            end=mid-1\n",
    "        else:\n",
    "            start=mid+1\n",
    "    return ind\n",
    "            \n",
    "arr=[0,1,1,5,5,5,7,7,7,7]\n",
    "ele=5\n",
    "start=0\n",
    "end=len(arr)-1\n",
    "firstindex=FirstOccurrence(arr,ele,start,end)\n",
    "print(firstindex)\n",
    "lastindex=lastOccurrence(arr,ele,start,end)\n",
    "print(lastindex)"
   ]
  },
  {
   "cell_type": "code",
   "execution_count": null,
   "metadata": {},
   "outputs": [],
   "source": []
  }
 ],
 "metadata": {
  "kernelspec": {
   "display_name": "Python 3",
   "language": "python",
   "name": "python3"
  },
  "language_info": {
   "codemirror_mode": {
    "name": "ipython",
    "version": 3
   },
   "file_extension": ".py",
   "mimetype": "text/x-python",
   "name": "python",
   "nbconvert_exporter": "python",
   "pygments_lexer": "ipython3",
   "version": "3.8.5"
  }
 },
 "nbformat": 4,
 "nbformat_minor": 4
}
