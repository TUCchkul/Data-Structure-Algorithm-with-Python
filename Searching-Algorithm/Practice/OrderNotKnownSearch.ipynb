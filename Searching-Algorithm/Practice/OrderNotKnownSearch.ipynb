{
 "cells": [
  {
   "cell_type": "code",
   "execution_count": 4,
   "metadata": {},
   "outputs": [
    {
     "name": "stdout",
     "output_type": "stream",
     "text": [
      "2\n"
     ]
    }
   ],
   "source": [
    "def BinarySearchDescending(arr,ele, start,end):\n",
    "    ind=-1\n",
    "    while start<=end:\n",
    "        mid=start+(end-start)//2\n",
    "        if ele==arr[mid]:\n",
    "            ind=mid\n",
    "            break\n",
    "        elif ele>arr[mid]:\n",
    "            end=mid-1\n",
    "        else:\n",
    "            start=mid+1\n",
    "    return ind\n",
    "def BinarySearchAscending(arr, ele, start, end):\n",
    "    ind=-1\n",
    "    while start<=end:\n",
    "        mid=start+(end-start)//2\n",
    "        if ele==arr[mid]:\n",
    "            ind=mid\n",
    "            break\n",
    "        elif ele<arr[mid]:\n",
    "            end=mid-1\n",
    "        else:\n",
    "            start=mid+1\n",
    "    return ind\n",
    "def BinarySearch(arr, ele, start,end):\n",
    "    if len(arr)==1:\n",
    "        if ele==arr[0]:\n",
    "            return 0\n",
    "        return -1\n",
    "    elif arr[0]<arr[-1]:\n",
    "        return BinarySearchAscending(arr, ele, start, end)\n",
    "    elif arr[0]>arr[-1]:\n",
    "        return BinarySearchDescending(arr,ele, start,end)\n",
    "\n",
    "\n",
    "arr=[1,2,3,4,5,6,7]\n",
    "ele=3\n",
    "start=0\n",
    "end=len(arr)-1\n",
    "index=BinarySearch(arr, ele, start,end)\n",
    "print(index)"
   ]
  },
  {
   "cell_type": "code",
   "execution_count": null,
   "metadata": {},
   "outputs": [],
   "source": []
  }
 ],
 "metadata": {
  "kernelspec": {
   "display_name": "Python 3",
   "language": "python",
   "name": "python3"
  },
  "language_info": {
   "codemirror_mode": {
    "name": "ipython",
    "version": 3
   },
   "file_extension": ".py",
   "mimetype": "text/x-python",
   "name": "python",
   "nbconvert_exporter": "python",
   "pygments_lexer": "ipython3",
   "version": "3.8.5"
  }
 },
 "nbformat": 4,
 "nbformat_minor": 4
}
