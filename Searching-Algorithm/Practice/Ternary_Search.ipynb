{
 "cells": [
  {
   "cell_type": "code",
   "execution_count": null,
   "metadata": {},
   "outputs": [],
   "source": [
    "def ternary_Search(arr, ele, start, end):\n",
    "    ind=-1\n",
    "    while start<=end:\n",
    "        m1=(2*start+end)//3\n",
    "        m2=(start+2*end)//3\n",
    "        if ele==arr[m1]:\n",
    "            ind=m1\n",
    "            break\n",
    "        elif ele==arr[m2]:\n",
    "            ind=m2\n",
    "            break\n",
    "        elif ele<arr[m1]:\n",
    "            end=m1-1\n",
    "        elif ele>arr[m2]:\n",
    "            start=m2+1\n",
    "        else:\n",
    "            start=m1\n",
    "            \n",
    "        \n",
    "arr=[1,2,5,9,14]\n",
    "ele=6\n",
    "start=0\n",
    "end=len(arr)-1\n",
    "index=ternary_Search(arr,ele, start,end)\n",
    "print(index)"
   ]
  }
 ],
 "metadata": {
  "kernelspec": {
   "display_name": "Python 3",
   "language": "python",
   "name": "python3"
  },
  "language_info": {
   "codemirror_mode": {
    "name": "ipython",
    "version": 3
   },
   "file_extension": ".py",
   "mimetype": "text/x-python",
   "name": "python",
   "nbconvert_exporter": "python",
   "pygments_lexer": "ipython3",
   "version": "3.8.5"
  }
 },
 "nbformat": 4,
 "nbformat_minor": 4
}
