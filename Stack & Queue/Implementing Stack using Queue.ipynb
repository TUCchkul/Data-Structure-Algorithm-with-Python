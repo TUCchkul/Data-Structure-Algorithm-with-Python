{
 "cells": [
  {
   "cell_type": "code",
   "execution_count": 1,
   "id": "741225b0",
   "metadata": {},
   "outputs": [
    {
     "name": "stdout",
     "output_type": "stream",
     "text": [
      "5 4 3 2 1 \n",
      "5\n",
      "4\n",
      "3 2 1 \n"
     ]
    }
   ],
   "source": [
    "class Stack:\n",
    "    def __init__(self):\n",
    "        self.st=[]\n",
    "    def push(self,data):\n",
    "        self.st.append(data)\n",
    "    def pop(self):\n",
    "        popEle=-1\n",
    "        if len(self.st)>0:\n",
    "            popEle=self.st.pop(-1)\n",
    "        return popEle\n",
    "    def print(self):\n",
    "        for i in range(len(self.st)-1,-1,-1):\n",
    "            print(self.st[i], end=\" \")\n",
    "        print()\n",
    "s=Stack()\n",
    "values=[1,2,3,4,5]\n",
    "for i in values:\n",
    "    s.push(i)\n",
    "s.print()\n",
    "print(s.pop())\n",
    "print(s.pop())\n",
    "s.print()\n",
    "        "
   ]
  },
  {
   "cell_type": "code",
   "execution_count": null,
   "id": "8304594e",
   "metadata": {},
   "outputs": [],
   "source": []
  }
 ],
 "metadata": {
  "kernelspec": {
   "display_name": "Python 3 (ipykernel)",
   "language": "python",
   "name": "python3"
  },
  "language_info": {
   "codemirror_mode": {
    "name": "ipython",
    "version": 3
   },
   "file_extension": ".py",
   "mimetype": "text/x-python",
   "name": "python",
   "nbconvert_exporter": "python",
   "pygments_lexer": "ipython3",
   "version": "3.7.13"
  }
 },
 "nbformat": 4,
 "nbformat_minor": 5
}
