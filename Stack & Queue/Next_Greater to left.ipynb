{
 "cells": [
  {
   "cell_type": "code",
   "execution_count": 3,
   "id": "124a2df4",
   "metadata": {},
   "outputs": [
    {
     "name": "stdout",
     "output_type": "stream",
     "text": [
      "[-1, -1, 3, -1]\n"
     ]
    }
   ],
   "source": [
    "def Next_Greater_to_Left_Element(arr):\n",
    "    op=[]\n",
    "    stk=[]\n",
    "    for i in range(len(arr)):\n",
    "        if len(stk)==0:\n",
    "            op.append(-1)\n",
    "        elif stk[-1]>arr[i]:\n",
    "            op.append(stk[-1])\n",
    "        else:\n",
    "            while len(stk)>0 and stk[-1]<arr[i]:\n",
    "                stk.pop(-1)\n",
    "            if len(stk)==0:\n",
    "                op.append(-1)\n",
    "            else:\n",
    "                op.append(stk[-1])\n",
    "        \n",
    "        \n",
    "        \n",
    "        stk.append(arr[i])\n",
    "    return op\n",
    "arr=[1,3,2,4]\n",
    "res=Next_Greater_to_Left_Element(arr)\n",
    "print(res)"
   ]
  },
  {
   "cell_type": "code",
   "execution_count": null,
   "id": "0e645dd4",
   "metadata": {},
   "outputs": [],
   "source": []
  }
 ],
 "metadata": {
  "kernelspec": {
   "display_name": "Python 3 (ipykernel)",
   "language": "python",
   "name": "python3"
  },
  "language_info": {
   "codemirror_mode": {
    "name": "ipython",
    "version": 3
   },
   "file_extension": ".py",
   "mimetype": "text/x-python",
   "name": "python",
   "nbconvert_exporter": "python",
   "pygments_lexer": "ipython3",
   "version": "3.7.13"
  }
 },
 "nbformat": 4,
 "nbformat_minor": 5
}
