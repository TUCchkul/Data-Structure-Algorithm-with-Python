{
 "cells": [
  {
   "cell_type": "code",
   "execution_count": 1,
   "id": "80fbe98f",
   "metadata": {},
   "outputs": [],
   "source": [
    "class Stack:\n",
    "    def __init__(self):\n",
    "        self.st=[]\n",
    "    def push(self, data):\n",
    "        self.st.append(data)\n",
    "    def pop(self):\n",
    "        popEle=-1\n",
    "        if len(self.st)>0:\n",
    "            popEle=self.st.pop(-1)\n",
    "        return popEle\n",
    "    def print(self):\n",
    "        for i in range(len(self.st)-1,-1,-1):\n",
    "            print(self.st[i], end=\" \")\n",
    "        print()\n",
    "        \n",
    "        "
   ]
  },
  {
   "cell_type": "code",
   "execution_count": 2,
   "id": "929ee612",
   "metadata": {},
   "outputs": [
    {
     "name": "stdout",
     "output_type": "stream",
     "text": [
      "5 4 3 2 1 \n",
      "5\n",
      "4\n",
      "3 2 1 \n"
     ]
    }
   ],
   "source": [
    "s=Stack()\n",
    "values=[1,2,3,4,5]\n",
    "for i in values:\n",
    "    s.push(i)\n",
    "s.print()\n",
    "print(s.pop())\n",
    "print(s.pop())\n",
    "s.print()"
   ]
  },
  {
   "cell_type": "code",
   "execution_count": 3,
   "id": "8a0a1f14",
   "metadata": {},
   "outputs": [
    {
     "name": "stdout",
     "output_type": "stream",
     "text": [
      "1 2 3 4 5 \n",
      "1\n",
      "2\n",
      "3 4 5 \n"
     ]
    }
   ],
   "source": [
    "class Queue:\n",
    "    def __init__(self):\n",
    "        self.que=[]\n",
    "    def enque(self, data):\n",
    "        self.que.append(data)\n",
    "    def deque(self):\n",
    "        popEle=-1\n",
    "        if len(self.que)>0:\n",
    "            popEle=self.que.pop(0)\n",
    "        return popEle\n",
    "    def print(self):\n",
    "        for i in self.que:\n",
    "            print(i, end=\" \")\n",
    "        print()\n",
    "qu=Queue()\n",
    "values=[1,2,3,4,5]\n",
    "for i in values:\n",
    "    qu.enque(i)\n",
    "qu.print()\n",
    "print(qu.deque())\n",
    "print(qu.deque())\n",
    "qu.print()"
   ]
  },
  {
   "cell_type": "code",
   "execution_count": null,
   "id": "77e47ff8",
   "metadata": {},
   "outputs": [],
   "source": []
  }
 ],
 "metadata": {
  "kernelspec": {
   "display_name": "Python 3 (ipykernel)",
   "language": "python",
   "name": "python3"
  },
  "language_info": {
   "codemirror_mode": {
    "name": "ipython",
    "version": 3
   },
   "file_extension": ".py",
   "mimetype": "text/x-python",
   "name": "python",
   "nbconvert_exporter": "python",
   "pygments_lexer": "ipython3",
   "version": "3.7.13"
  }
 },
 "nbformat": 4,
 "nbformat_minor": 5
}
