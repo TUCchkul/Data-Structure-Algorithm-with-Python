{
 "cells": [
  {
   "cell_type": "code",
   "execution_count": 8,
   "id": "8015075a",
   "metadata": {},
   "outputs": [
    {
     "name": "stdout",
     "output_type": "stream",
     "text": [
      "[3, 4, 4, -1]\n"
     ]
    }
   ],
   "source": [
    "#time complexity o(n²)\n",
    "def NGR(arr):\n",
    "    op=[]\n",
    "    for i in range(len(arr)):\n",
    "        alpha=-1\n",
    "        for j in range(i+1,len(arr)):\n",
    "            \n",
    "            if arr[j]>arr[i]:\n",
    "                alpha=arr[j]\n",
    "                break\n",
    "        op.append(alpha)\n",
    "    return op\n",
    "            \n",
    "                \n",
    "            \n",
    "\n",
    "# Using Stack time complexity o(n)\n",
    "def NGR2(arr):\n",
    "    op=[]\n",
    "    stk=[]\n",
    "    for i in range(len(arr)-1,-1,-1):\n",
    "        if len(stk)==0:\n",
    "            op.append(-1)\n",
    "        elif stk[-1]>arr[i]:\n",
    "            op.append(stk[-1])\n",
    "        else:\n",
    "            while len(stk)>0 and stk[-1]<arr[i]:\n",
    "                stk.pop(-1)\n",
    "            if len(stk)==0:\n",
    "                op.append(-1)\n",
    "            else:\n",
    "                op.append(stk[-1])\n",
    "        stk.append(arr[i])\n",
    "    op.reverse()\n",
    "    return op\n",
    "\n",
    "ip_n=[1,3,2,4]\n",
    "op=NGR2(ip_n)\n",
    "print(op)"
   ]
  },
  {
   "cell_type": "code",
   "execution_count": 1,
   "id": "f1948338",
   "metadata": {},
   "outputs": [
    {
     "name": "stdout",
     "output_type": "stream",
     "text": [
      "[3, 4, 4, -1]\n"
     ]
    }
   ],
   "source": [
    "def Next_largest_Element_To_Right(arr)\n",
    "    out=[]\n",
    "    for i in range(len(arr)):\n",
    "        alpha=-1\n",
    "        for j in range(i+1, len(arr)):\n",
    "            if arr[j]>arr[i]:\n",
    "                alpha=arr[j]\n",
    "                break\n",
    "        out.append(alpha)\n",
    "    return out\n",
    "            \n",
    "arr=[1,3,2,4]\n",
    "res=Next_largest_Element_To_Right(arr)\n",
    "print(res)"
   ]
  },
  {
   "cell_type": "code",
   "execution_count": 6,
   "id": "2ec79998",
   "metadata": {},
   "outputs": [
    {
     "ename": "TypeError",
     "evalue": "object of type 'int' has no len()",
     "output_type": "error",
     "traceback": [
      "\u001b[1;31m--------------------------------------------------\u001b[0m",
      "\u001b[1;31mTypeError\u001b[0m        Traceback (most recent call last)",
      "\u001b[1;32m~\\AppData\\Local\\Temp\\ipykernel_33120\\448194354.py\u001b[0m in \u001b[0;36m<module>\u001b[1;34m\u001b[0m\n\u001b[1;32m----> 1\u001b[1;33m \u001b[1;32mfor\u001b[0m \u001b[0mi\u001b[0m \u001b[1;32min\u001b[0m \u001b[0mrange\u001b[0m\u001b[1;33m(\u001b[0m\u001b[0mlen\u001b[0m\u001b[1;33m(\u001b[0m\u001b[1;36m4\u001b[0m\u001b[1;33m)\u001b[0m\u001b[1;33m-\u001b[0m\u001b[1;36m1\u001b[0m\u001b[1;33m,\u001b[0m\u001b[1;33m-\u001b[0m\u001b[1;36m1\u001b[0m\u001b[1;33m,\u001b[0m\u001b[1;33m-\u001b[0m\u001b[1;36m1\u001b[0m\u001b[1;33m)\u001b[0m\u001b[1;33m:\u001b[0m\u001b[1;33m\u001b[0m\u001b[1;33m\u001b[0m\u001b[0m\n\u001b[0m\u001b[0;32m      2\u001b[0m     \u001b[0mprint\u001b[0m\u001b[1;33m(\u001b[0m\u001b[0mi\u001b[0m\u001b[1;33m)\u001b[0m\u001b[1;33m\u001b[0m\u001b[1;33m\u001b[0m\u001b[0m\n",
      "\u001b[1;31mTypeError\u001b[0m: object of type 'int' has no len()"
     ]
    }
   ],
   "source": [
    "for i in range(len(4)-1,-1,-1):\n",
    "    print(i)"
   ]
  },
  {
   "cell_type": "code",
   "execution_count": 8,
   "id": "a286a7f8",
   "metadata": {},
   "outputs": [
    {
     "name": "stdout",
     "output_type": "stream",
     "text": [
      "[3, 4, 4, -1]\n"
     ]
    }
   ],
   "source": [
    "# Using Stack with complexity o(n)\n",
    "def Next_largest_Element_To_Right_Using_Stack(arr):\n",
    "    op=[]\n",
    "    stack=[]\n",
    "    for i in range(len(arr)-1,-1,-1):\n",
    "        if len(stack)==0:\n",
    "            op.append(-1)\n",
    "        elif stack[-1]>arr[i]:\n",
    "            op.append(stack[-1])\n",
    "        else:\n",
    "            while len(stack)>0 and stack[-1]<arr[i]:\n",
    "                stack.pop(-1)\n",
    "            if len(stack)==0:\n",
    "                op.append(-1)\n",
    "            else:\n",
    "                op.append(stack[-1])\n",
    "        stack.append(arr[i])\n",
    "    op.reverse()\n",
    "    return op\n",
    "    \n",
    "arr=[1,3,2,4]\n",
    "res=Next_largest_Element_To_Right_Using_Stack(arr)\n",
    "print(res)\n",
    "#print(res)   "
   ]
  },
  {
   "cell_type": "code",
   "execution_count": null,
   "id": "417b4a7c",
   "metadata": {},
   "outputs": [],
   "source": []
  }
 ],
 "metadata": {
  "kernelspec": {
   "display_name": "Python 3 (ipykernel)",
   "language": "python",
   "name": "python3"
  },
  "language_info": {
   "codemirror_mode": {
    "name": "ipython",
    "version": 3
   },
   "file_extension": ".py",
   "mimetype": "text/x-python",
   "name": "python",
   "nbconvert_exporter": "python",
   "pygments_lexer": "ipython3",
   "version": "3.7.13"
  }
 },
 "nbformat": 4,
 "nbformat_minor": 5
}
