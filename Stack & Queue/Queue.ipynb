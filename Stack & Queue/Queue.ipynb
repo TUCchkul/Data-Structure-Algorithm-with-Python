{
 "cells": [
  {
   "cell_type": "code",
   "execution_count": 5,
   "id": "98d420f4",
   "metadata": {},
   "outputs": [
    {
     "name": "stdout",
     "output_type": "stream",
     "text": [
      "5 6 7 8 9 \n",
      "6 7 8 9 \n"
     ]
    }
   ],
   "source": [
    "class Queue:\n",
    "    def __init__(self):\n",
    "        self.q=[]\n",
    "    def enque(self,data):\n",
    "        self.q.append(data)\n",
    "    def dequeue(self):\n",
    "        popEle=-1\n",
    "        if len(self.q)>0:\n",
    "            popEle=self.q.pop(0)\n",
    "        return popEle\n",
    "    def print(self):\n",
    "        for i in self.q:\n",
    "            print(i, end=\" \")\n",
    "        print()\n",
    "q=Queue()\n",
    "q.enque(5)\n",
    "q.enque(6)\n",
    "q.enque(7)\n",
    "q.enque(8)\n",
    "q.enque(9)\n",
    "q.print()\n",
    "q.dequeue()\n",
    "q.print()"
   ]
  },
  {
   "cell_type": "code",
   "execution_count": null,
   "id": "e61c096c",
   "metadata": {},
   "outputs": [],
   "source": []
  }
 ],
 "metadata": {
  "kernelspec": {
   "display_name": "Python 3 (ipykernel)",
   "language": "python",
   "name": "python3"
  },
  "language_info": {
   "codemirror_mode": {
    "name": "ipython",
    "version": 3
   },
   "file_extension": ".py",
   "mimetype": "text/x-python",
   "name": "python",
   "nbconvert_exporter": "python",
   "pygments_lexer": "ipython3",
   "version": "3.7.13"
  }
 },
 "nbformat": 4,
 "nbformat_minor": 5
}
