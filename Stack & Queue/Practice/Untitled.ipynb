{
 "cells": [
  {
   "cell_type": "code",
   "execution_count": null,
   "id": "2b08fc0d",
   "metadata": {},
   "outputs": [],
   "source": [
    "def parenteses_Checking(exp):\n",
    "    stk=[]\n",
    "    for char in exp:\n",
    "        if char in ['(','{','[']:\n",
    "            stk.append(char)\n",
    "        elif char in [')','}',']']:\n",
    "            stk.pop()\n",
    "            if stk=='(':\n",
    "                if char !=')':\n",
    "                    return False\n",
    "            if stk=='{':\n",
    "                if char !='}':\n",
    "                    return False\n",
    "            if stk=='[':\n",
    "                if char !=']':\n",
    "                    return False\n",
    "expression=\"([{}])\"\n",
    "res= parenteses_Checking(expression)"
   ]
  }
 ],
 "metadata": {
  "kernelspec": {
   "display_name": "Python 3 (ipykernel)",
   "language": "python",
   "name": "python3"
  },
  "language_info": {
   "codemirror_mode": {
    "name": "ipython",
    "version": 3
   },
   "file_extension": ".py",
   "mimetype": "text/x-python",
   "name": "python",
   "nbconvert_exporter": "python",
   "pygments_lexer": "ipython3",
   "version": "3.7.13"
  }
 },
 "nbformat": 4,
 "nbformat_minor": 5
}
