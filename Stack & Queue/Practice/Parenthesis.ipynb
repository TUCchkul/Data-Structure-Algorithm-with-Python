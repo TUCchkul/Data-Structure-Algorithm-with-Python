{
 "cells": [
  {
   "cell_type": "code",
   "execution_count": 4,
   "id": "71b12d87",
   "metadata": {},
   "outputs": [
    {
     "name": "stdout",
     "output_type": "stream",
     "text": [
      "False\n"
     ]
    }
   ],
   "source": [
    "def parenthesisChecking(exp):\n",
    "    stk=[]\n",
    "    for char in exp:\n",
    "        if char in [\"(\", \"{\",\"[\"]:\n",
    "            stk.append(char)\n",
    "        elif char in [\")\",\"}\",\"]\"]:\n",
    "            alpha=stk.pop()\n",
    "            if alpha==\"(\":\n",
    "                if char !=\")\":\n",
    "                    return False\n",
    "            if alpha==\"{\":\n",
    "                if char !=\"}\":\n",
    "                    return False\n",
    "            if alpha==\"[\":\n",
    "                if char !=\"]\":\n",
    "                    return False\n",
    "    if stk:\n",
    "        return False\n",
    "    return True\n",
    "            \n",
    "            \n",
    "        \n",
    "        \n",
    "exp=\"({[]}()\"\n",
    "res=parenthesisChecking(exp)\n",
    "print(res)"
   ]
  },
  {
   "cell_type": "code",
   "execution_count": null,
   "id": "500fd36a",
   "metadata": {},
   "outputs": [],
   "source": []
  }
 ],
 "metadata": {
  "kernelspec": {
   "display_name": "Python 3 (ipykernel)",
   "language": "python",
   "name": "python3"
  },
  "language_info": {
   "codemirror_mode": {
    "name": "ipython",
    "version": 3
   },
   "file_extension": ".py",
   "mimetype": "text/x-python",
   "name": "python",
   "nbconvert_exporter": "python",
   "pygments_lexer": "ipython3",
   "version": "3.7.13"
  }
 },
 "nbformat": 4,
 "nbformat_minor": 5
}
