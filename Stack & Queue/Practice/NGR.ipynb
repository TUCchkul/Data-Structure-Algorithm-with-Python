{
 "cells": [
  {
   "cell_type": "markdown",
   "id": "b307194b",
   "metadata": {},
   "source": []
  },
  {
   "cell_type": "code",
   "execution_count": 2,
   "id": "eea5e6e3",
   "metadata": {},
   "outputs": [
    {
     "name": "stdout",
     "output_type": "stream",
     "text": [
      "[3, 4, 4, -1]\n"
     ]
    }
   ],
   "source": [
    "def NGR(arr):\n",
    "    op=[]\n",
    "    for i in range(len(arr)):\n",
    "        alpha=-1\n",
    "        for j in range(i+1, len(arr)):\n",
    "            if arr[j]>arr[i]:\n",
    "                alpha=arr[j]\n",
    "                break\n",
    "        op.append(alpha)\n",
    "    return op\n",
    "def NGR2(arr):\n",
    "    op=[]\n",
    "    stk=[]\n",
    "    for i in range(len(arr)-1,-1,-1):\n",
    "        if len(stk)==0:\n",
    "            op.append(-1)\n",
    "        elif stk[-1]>arr[i]:\n",
    "            op.append(stk[-1])\n",
    "        else:\n",
    "            while len(stk)>0 and stk[-1]<arr[i]:\n",
    "                stk.pop(-1)\n",
    "            if len(stk)\n",
    "ip_n=[1,3,2,4]\n",
    "op=NGR(ip_n)\n",
    "print(op)"
   ]
  },
  {
   "cell_type": "code",
   "execution_count": null,
   "id": "446443ef",
   "metadata": {},
   "outputs": [],
   "source": []
  }
 ],
 "metadata": {
  "kernelspec": {
   "display_name": "Python 3 (ipykernel)",
   "language": "python",
   "name": "python3"
  },
  "language_info": {
   "codemirror_mode": {
    "name": "ipython",
    "version": 3
   },
   "file_extension": ".py",
   "mimetype": "text/x-python",
   "name": "python",
   "nbconvert_exporter": "python",
   "pygments_lexer": "ipython3",
   "version": "3.7.13"
  }
 },
 "nbformat": 4,
 "nbformat_minor": 5
}
