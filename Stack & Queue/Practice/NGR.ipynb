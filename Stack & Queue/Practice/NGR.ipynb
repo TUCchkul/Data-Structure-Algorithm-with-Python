{
 "cells": [
  {
   "cell_type": "markdown",
   "id": "3fcb557c",
   "metadata": {},
   "source": []
  },
  {
   "cell_type": "code",
   "execution_count": 2,
   "id": "a34f7823",
   "metadata": {},
   "outputs": [
    {
     "name": "stdout",
     "output_type": "stream",
     "text": [
      "[3, 4, 4, -1]\n"
     ]
    }
   ],
   "source": [
    "def NGR(arr):\n",
    "    op=[]\n",
    "    for i in range(len(arr)):\n",
    "        alpha=-1\n",
    "        for j in range(i+1, len(arr)):\n",
    "            if arr[j]>arr[i]:\n",
    "                alpha=arr[j]\n",
    "                break\n",
    "        op.append(alpha)\n",
    "    return op\n",
    "ip_n=[1,3,2,4]\n",
    "op=NGR(ip_n)\n",
    "print(op)"
   ]
  },
  {
   "cell_type": "code",
   "execution_count": null,
   "id": "98df800a",
   "metadata": {},
   "outputs": [],
   "source": []
  }
 ],
 "metadata": {
  "kernelspec": {
   "display_name": "Python 3 (ipykernel)",
   "language": "python",
   "name": "python3"
  },
  "language_info": {
   "codemirror_mode": {
    "name": "ipython",
    "version": 3
   },
   "file_extension": ".py",
   "mimetype": "text/x-python",
   "name": "python",
   "nbconvert_exporter": "python",
   "pygments_lexer": "ipython3",
   "version": "3.7.13"
  }
 },
 "nbformat": 4,
 "nbformat_minor": 5
}
