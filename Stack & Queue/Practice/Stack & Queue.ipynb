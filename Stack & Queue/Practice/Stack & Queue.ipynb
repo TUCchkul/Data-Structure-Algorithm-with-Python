{
 "cells": [
  {
   "cell_type": "code",
   "execution_count": 3,
   "id": "e2557fa7",
   "metadata": {},
   "outputs": [
    {
     "name": "stdout",
     "output_type": "stream",
     "text": [
      "5 4 3 2 1 \n",
      "5\n",
      "4\n",
      "3 2 1 \n"
     ]
    }
   ],
   "source": [
    "class Stack:\n",
    "    def __init__(self):\n",
    "        self.st=[]\n",
    "    def push(self, data):\n",
    "        self.st.append(data)\n",
    "    def pop(self):\n",
    "        popEle=-1\n",
    "        if len(self.st)>0:\n",
    "            popEle=self.st.pop(-1)\n",
    "        return popEle\n",
    "    def print(self):\n",
    "        for i in range(len(self.st)-1,-1,-1):\n",
    "            print(self.st[i], end=\" \")\n",
    "        print()\n",
    "st=Stack()\n",
    "values=[1,2,3,4,5]\n",
    "for i in values:\n",
    "    st.push(i)\n",
    "st.print()\n",
    "print(st.pop())\n",
    "print(st.pop())\n",
    "st.print()\n",
    "        "
   ]
  },
  {
   "cell_type": "code",
   "execution_count": 4,
   "id": "bb098168",
   "metadata": {},
   "outputs": [
    {
     "name": "stdout",
     "output_type": "stream",
     "text": [
      "1 2 3 4 5 \n",
      "1\n",
      "2\n",
      "3 4 5 \n"
     ]
    }
   ],
   "source": [
    "class Queue:\n",
    "    def __init__(self):\n",
    "        self.st=[]\n",
    "    def enque(self, data):\n",
    "        self.st.append(data)\n",
    "    def deque(self):\n",
    "        popEle=-1\n",
    "        if len(self.st)>0:\n",
    "            popEle=self.st.pop(0)\n",
    "        return popEle\n",
    "    def print(self):\n",
    "        for i in range(len(self.st)):\n",
    "            print(self.st[i], end=\" \")\n",
    "        print()\n",
    "    \n",
    "qu=Queue()\n",
    "values=[1,2,3,4,5]\n",
    "for i in values:\n",
    "    qu.enque(i)\n",
    "qu.print()\n",
    "print(qu.deque())\n",
    "print(qu.deque())\n",
    "qu.print()\n",
    "                   "
   ]
  },
  {
   "cell_type": "code",
   "execution_count": null,
   "id": "74d1d7b3",
   "metadata": {},
   "outputs": [],
   "source": []
  }
 ],
 "metadata": {
  "kernelspec": {
   "display_name": "Python 3 (ipykernel)",
   "language": "python",
   "name": "python3"
  },
  "language_info": {
   "codemirror_mode": {
    "name": "ipython",
    "version": 3
   },
   "file_extension": ".py",
   "mimetype": "text/x-python",
   "name": "python",
   "nbconvert_exporter": "python",
   "pygments_lexer": "ipython3",
   "version": "3.7.13"
  }
 },
 "nbformat": 4,
 "nbformat_minor": 5
}
