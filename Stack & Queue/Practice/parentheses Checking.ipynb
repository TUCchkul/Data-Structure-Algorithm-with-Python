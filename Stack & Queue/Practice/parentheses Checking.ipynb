{
 "cells": [
  {
   "cell_type": "code",
   "execution_count": 8,
   "id": "29996f79",
   "metadata": {},
   "outputs": [
    {
     "name": "stdout",
     "output_type": "stream",
     "text": [
      "True\n"
     ]
    }
   ],
   "source": [
    "def valid_parentheses(exp):\n",
    "    stack=[]\n",
    "    for char in exp:\n",
    "        if char in [\"(\",\"{\",\"[\"]:\n",
    "            stack.append(char)\n",
    "    \n",
    "        elif char in [\")\",\"}\",\"]\"]:\n",
    "            alpha=stack.pop()\n",
    "            \n",
    "        \n",
    "            if alpha== \"(\":\n",
    "                if char !=\")\":\n",
    "                    return False\n",
    "            if alpha==\"{\":\n",
    "                if char !=\"}\":\n",
    "                    return False\n",
    "            if alpha==\"[\":\n",
    "                if char !=\"]\":\n",
    "                    return False\n",
    "    if stack:\n",
    "        return False\n",
    "    return True\n",
    "exp=\"(()[]{})\"\n",
    "stk=valid_parentheses(exp)\n",
    "print(stk)"
   ]
  },
  {
   "cell_type": "code",
   "execution_count": null,
   "id": "31d7f7b4",
   "metadata": {},
   "outputs": [],
   "source": []
  }
 ],
 "metadata": {
  "kernelspec": {
   "display_name": "Python 3 (ipykernel)",
   "language": "python",
   "name": "python3"
  },
  "language_info": {
   "codemirror_mode": {
    "name": "ipython",
    "version": 3
   },
   "file_extension": ".py",
   "mimetype": "text/x-python",
   "name": "python",
   "nbconvert_exporter": "python",
   "pygments_lexer": "ipython3",
   "version": "3.7.13"
  }
 },
 "nbformat": 4,
 "nbformat_minor": 5
}
