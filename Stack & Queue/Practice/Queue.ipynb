{
 "cells": [
  {
   "cell_type": "code",
   "execution_count": 3,
   "id": "3e8b12f0",
   "metadata": {},
   "outputs": [
    {
     "name": "stdout",
     "output_type": "stream",
     "text": [
      "1 2 3 4 5 \n",
      "2 3 4 5 \n"
     ]
    }
   ],
   "source": [
    "class Queue:\n",
    "    def __init__(self):\n",
    "        self.que=[]\n",
    "    def enque(self, data):\n",
    "        self.que.append(data)\n",
    "    def deque(self):\n",
    "        popEle=-1\n",
    "        if len(self.que)>0:\n",
    "            popEle=self.que.pop(0)\n",
    "        return popEle\n",
    "    def print(self):\n",
    "        for i in self.que:\n",
    "            print(i, end=\" \")\n",
    "        print()\n",
    "q=Queue()\n",
    "values=[1,2,3,4,5]\n",
    "for i in values:\n",
    "    q.enque(i)\n",
    "q.print()\n",
    "q.deque()\n",
    "q.print()"
   ]
  },
  {
   "cell_type": "code",
   "execution_count": null,
   "id": "e8c58645",
   "metadata": {},
   "outputs": [],
   "source": []
  }
 ],
 "metadata": {
  "kernelspec": {
   "display_name": "Python 3 (ipykernel)",
   "language": "python",
   "name": "python3"
  },
  "language_info": {
   "codemirror_mode": {
    "name": "ipython",
    "version": 3
   },
   "file_extension": ".py",
   "mimetype": "text/x-python",
   "name": "python",
   "nbconvert_exporter": "python",
   "pygments_lexer": "ipython3",
   "version": "3.7.13"
  }
 },
 "nbformat": 4,
 "nbformat_minor": 5
}
