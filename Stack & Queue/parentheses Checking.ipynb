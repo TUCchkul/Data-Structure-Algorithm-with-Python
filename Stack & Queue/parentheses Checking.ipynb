{
 "cells": [
  {
   "cell_type": "code",
   "execution_count": 3,
   "id": "fe564e01",
   "metadata": {},
   "outputs": [
    {
     "name": "stdout",
     "output_type": "stream",
     "text": [
      "True\n"
     ]
    }
   ],
   "source": [
    "def BracketBalanceChecking(exp):\n",
    "    stack=[]\n",
    "    for char in exp:\n",
    "        if char in [\"(\",\"[\",\"{\"]:\n",
    "            stack.append(char)\n",
    "        elif char in [\")\",\"]\",\"}\"]:\n",
    "            alpha=stack.pop()\n",
    "            if alpha==\"(\":\n",
    "                if char!=\")\":\n",
    "                    return False\n",
    "            if alpha==\"[\":\n",
    "                if char !=\"]\":\n",
    "                    return False\n",
    "            if alpha==\"{\":\n",
    "                if char !=\"}\":\n",
    "                    return False\n",
    "    if stack:\n",
    "        return False\n",
    "    return True\n",
    "            \n",
    "            \n",
    "exp=\"{()[]}\"\n",
    "flag=BracketBalanceChecking(exp)\n",
    "print(flag)"
   ]
  },
  {
   "cell_type": "code",
   "execution_count": null,
   "id": "c10ad295",
   "metadata": {},
   "outputs": [],
   "source": []
  }
 ],
 "metadata": {
  "kernelspec": {
   "display_name": "Python 3.7.13 (conda)",
   "language": "python",
   "name": "python3"
  },
  "language_info": {
   "codemirror_mode": {
    "name": "ipython",
    "version": 3
   },
   "file_extension": ".py",
   "mimetype": "text/x-python",
   "name": "python",
   "nbconvert_exporter": "python",
   "pygments_lexer": "ipython3",
   "version": "3.7.13"
  },
  "vscode": {
   "interpreter": {
    "hash": "d82e41e9f7541cec15d8af5d7f88ef5cf4d3bf1b7a1f9baaa14fefc68a4ad798"
   }
  }
 },
 "nbformat": 4,
 "nbformat_minor": 5
}
