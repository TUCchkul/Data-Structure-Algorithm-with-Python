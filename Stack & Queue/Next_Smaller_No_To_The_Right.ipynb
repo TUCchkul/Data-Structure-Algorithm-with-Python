{
 "cells": [
  {
   "cell_type": "code",
   "execution_count": null,
   "id": "1e3a2186",
   "metadata": {},
   "outputs": [],
   "source": [
    "def next_smaller(arr):\n",
    "    op=[]\n",
    "    for i in range(len(arr)):\n",
    "        alpha=-1\n",
    "        for j in range(i+1,len(arr)):\n",
    "            if arr[j]<arr[i]:\n",
    "                alpha=arr[j]\n",
    "                break\n",
    "         op.append(alpha)   \n",
    "    \n",
    "arr=[1,2,4,3]\n",
    "res=next_smaller(arr)\n",
    "    "
   ]
  }
 ],
 "metadata": {
  "kernelspec": {
   "display_name": "Python 3 (ipykernel)",
   "language": "python",
   "name": "python3"
  },
  "language_info": {
   "codemirror_mode": {
    "name": "ipython",
    "version": 3
   },
   "file_extension": ".py",
   "mimetype": "text/x-python",
   "name": "python",
   "nbconvert_exporter": "python",
   "pygments_lexer": "ipython3",
   "version": "3.7.13"
  }
 },
 "nbformat": 4,
 "nbformat_minor": 5
}
